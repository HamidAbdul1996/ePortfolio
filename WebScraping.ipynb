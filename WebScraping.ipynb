{
 "cells": [
  {
   "cell_type": "code",
   "execution_count": 12,
   "id": "5168fbcc",
   "metadata": {},
   "outputs": [],
   "source": [
    "#imports required \n",
    "import requests\n",
    "from bs4 import BeautifulSoup\n",
    "import xml.etree.ElementTree as ET\n",
    "import re\n",
    "import xml.dom.minidom\n",
    "\n",
    "url = \"https://en.wikipedia.org/wiki/Data_science\"\n",
    "\n",
    "response = requests.get(url)\n",
    "soup = BeautifulSoup(response.text, 'html.parser')\n"
   ]
  },
  {
   "cell_type": "code",
   "execution_count": 13,
   "id": "64641c55",
   "metadata": {},
   "outputs": [],
   "source": [
    "paragraphs = soup.find_all('p') #found all text within paragraphs tags to get more meaninful sentances\n",
    "text = [p.get_text() for p in paragraphs] #extract text from each paragraph"
   ]
  },
  {
   "cell_type": "code",
   "execution_count": 14,
   "id": "401ea13a",
   "metadata": {},
   "outputs": [],
   "source": [
    "sentences = []\n",
    "for t in text:\n",
    "    sentences.extend(re.split(r'(?<=[.:;])\\s', t)) #split text into sentances\n",
    "\n",
    "data_scientist_sentences = [sentence for sentence in sentences if 'data scientist' in sentence.lower()] #keep only sentances that have data scientist\n"
   ]
  },
  {
   "cell_type": "code",
   "execution_count": 15,
   "id": "231ad95c",
   "metadata": {},
   "outputs": [
    {
     "name": "stdout",
     "output_type": "stream",
     "text": [
      "{0: 'A  data scientist is a professional who creates programming code and combines it with statistical knowledge to create insights from data.[9]\\n', 1: 'Davenport and DJ Patil declared \"Data Scientist:', 2: 'The professional title of \"data scientist\" has been attributed to DJ Patil and Jeff Hammerbacher in 2008.[32] Though it was used by the National Science Board in their 2005 report \"Long-Lived Digital Data Collections:', 3: 'There is still no consensus on the definition of data science, and it is considered by some to be a buzzword.[34] Big data is a related marketing term.[35] Data scientists are responsible for breaking down big data into usable information and creating software and algorithms that help companies and organizations determine optimal operations.[36]\\n', 4: 'Data scientists often work with unstructured data such as text or images and use machine learning algorithms to build predictive models and make data-driven decisions.', 5: 'For instance, a data scientist might develop a recommendation system for an e-commerce platform by analyzing user behavior patterns and using machine learning algorithms to predict user preferences.[38][39]\\n', 6: 'Data scientists are often responsible for collecting and cleaning data, selecting appropriate analytical techniques, and deploying models in real-world scenarios.'}\n"
     ]
    }
   ],
   "source": [
    "data_scientist_dict = {i: sentence for i, sentence in enumerate(data_scientist_sentences)} #store sentances in dictionary\n",
    "\n",
    "print(data_scientist_dict)"
   ]
  },
  {
   "cell_type": "code",
   "execution_count": 16,
   "id": "9a6688a3",
   "metadata": {},
   "outputs": [],
   "source": [
    "root = ET.Element(\"sentences\") #define root element for your XML"
   ]
  },
  {
   "cell_type": "code",
   "execution_count": 17,
   "id": "c78a9e4f",
   "metadata": {},
   "outputs": [],
   "source": [
    "# For each key-value pair in the dictionary:\n",
    "for key, value in data_scientist_dict.items():\n",
    "    # Create a new 'sentence' element under the root\n",
    "    sentence_element = ET.SubElement(root, \"sentence\")\n",
    "    \n",
    "    # Add an 'id' attribute to this 'sentence' element with the key as the value\n",
    "    sentence_element.set(\"id\", str(key))\n",
    "    \n",
    "    # Set the text of the 'sentence' element to be the value\n",
    "    sentence_element.text = value"
   ]
  },
  {
   "cell_type": "code",
   "execution_count": 19,
   "id": "5d1349f8",
   "metadata": {},
   "outputs": [],
   "source": [
    "tree = ET.ElementTree(root)\n",
    "\n",
    "# Write the ElementTree object to an XML file\n",
    "tree.write(\"data_scientist_sentences.xml\")"
   ]
  },
  {
   "cell_type": "code",
   "execution_count": null,
   "id": "d978d4c7",
   "metadata": {},
   "outputs": [],
   "source": []
  },
  {
   "cell_type": "code",
   "execution_count": null,
   "id": "af2f1e6c",
   "metadata": {},
   "outputs": [],
   "source": []
  }
 ],
 "metadata": {
  "kernelspec": {
   "display_name": "Python 3 (ipykernel)",
   "language": "python",
   "name": "python3"
  },
  "language_info": {
   "codemirror_mode": {
    "name": "ipython",
    "version": 3
   },
   "file_extension": ".py",
   "mimetype": "text/x-python",
   "name": "python",
   "nbconvert_exporter": "python",
   "pygments_lexer": "ipython3",
   "version": "3.9.7"
  }
 },
 "nbformat": 4,
 "nbformat_minor": 5
}
