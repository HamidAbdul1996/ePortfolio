{
 "cells": [
  {
   "cell_type": "code",
   "execution_count": 1,
   "metadata": {},
   "outputs": [],
   "source": [
    "import pandas as pd\n",
    "import matplotlib.pyplot as plt\n",
    "import seaborn as sns\n",
    "from scipy.stats import pearsonr\n",
    "from sklearn.linear_model import LinearRegression\n",
    "from sklearn.metrics import mean_squared_error, r2_score"
   ]
  },
  {
   "cell_type": "code",
   "execution_count": 2,
   "metadata": {},
   "outputs": [],
   "source": [
    "population_df = pd.read_csv('C:/Users/Hamid/Downloads/Global_Population.csv')\n",
    "gdp_df = pd.read_csv('C:/Users/Hamid/Downloads/Global_GDP.csv')"
   ]
  },
  {
   "cell_type": "code",
   "execution_count": 3,
   "metadata": {},
   "outputs": [
    {
     "data": {
      "text/html": [
       "<div>\n",
       "<style scoped>\n",
       "    .dataframe tbody tr th:only-of-type {\n",
       "        vertical-align: middle;\n",
       "    }\n",
       "\n",
       "    .dataframe tbody tr th {\n",
       "        vertical-align: top;\n",
       "    }\n",
       "\n",
       "    .dataframe thead th {\n",
       "        text-align: right;\n",
       "    }\n",
       "</style>\n",
       "<table border=\"1\" class=\"dataframe\">\n",
       "  <thead>\n",
       "    <tr style=\"text-align: right;\">\n",
       "      <th></th>\n",
       "      <th>Country Name</th>\n",
       "      <th>Country Code</th>\n",
       "      <th>Series Name</th>\n",
       "      <th>Series Code</th>\n",
       "      <th>1960</th>\n",
       "      <th>1961</th>\n",
       "      <th>1962</th>\n",
       "      <th>1963</th>\n",
       "      <th>1964</th>\n",
       "      <th>1965</th>\n",
       "      <th>...</th>\n",
       "      <th>2012</th>\n",
       "      <th>2013</th>\n",
       "      <th>2014</th>\n",
       "      <th>2015</th>\n",
       "      <th>2016</th>\n",
       "      <th>2017</th>\n",
       "      <th>2018</th>\n",
       "      <th>2019</th>\n",
       "      <th>2020</th>\n",
       "      <th>2021</th>\n",
       "    </tr>\n",
       "  </thead>\n",
       "  <tbody>\n",
       "    <tr>\n",
       "      <th>0</th>\n",
       "      <td>Aruba</td>\n",
       "      <td>ABW</td>\n",
       "      <td>Population, total</td>\n",
       "      <td>SP.POP.TOTL</td>\n",
       "      <td>54211</td>\n",
       "      <td>55438</td>\n",
       "      <td>56225</td>\n",
       "      <td>56695</td>\n",
       "      <td>57032</td>\n",
       "      <td>57360</td>\n",
       "      <td>...</td>\n",
       "      <td>102560</td>\n",
       "      <td>103159</td>\n",
       "      <td>103774</td>\n",
       "      <td>104341</td>\n",
       "      <td>104872</td>\n",
       "      <td>105366</td>\n",
       "      <td>105845</td>\n",
       "      <td>106314</td>\n",
       "      <td>NaN</td>\n",
       "      <td>NaN</td>\n",
       "    </tr>\n",
       "    <tr>\n",
       "      <th>1</th>\n",
       "      <td>Afghanistan</td>\n",
       "      <td>AFG</td>\n",
       "      <td>Population, total</td>\n",
       "      <td>SP.POP.TOTL</td>\n",
       "      <td>8996967</td>\n",
       "      <td>9169406</td>\n",
       "      <td>9351442</td>\n",
       "      <td>9543200</td>\n",
       "      <td>9744772</td>\n",
       "      <td>9956318</td>\n",
       "      <td>...</td>\n",
       "      <td>31161378</td>\n",
       "      <td>32269592</td>\n",
       "      <td>33370804</td>\n",
       "      <td>34413603</td>\n",
       "      <td>35383028</td>\n",
       "      <td>36296111</td>\n",
       "      <td>37171922</td>\n",
       "      <td>38041757</td>\n",
       "      <td>38928341</td>\n",
       "      <td>39835000</td>\n",
       "    </tr>\n",
       "    <tr>\n",
       "      <th>2</th>\n",
       "      <td>Africa Eastern and Southern</td>\n",
       "      <td>AFE</td>\n",
       "      <td>Population, total</td>\n",
       "      <td>SP.POP.TOTL</td>\n",
       "      <td>130836765</td>\n",
       "      <td>134159786</td>\n",
       "      <td>137614644</td>\n",
       "      <td>141202036</td>\n",
       "      <td>144920186</td>\n",
       "      <td>148769974</td>\n",
       "      <td>...</td>\n",
       "      <td>547482863</td>\n",
       "      <td>562601578</td>\n",
       "      <td>578075373</td>\n",
       "      <td>593871847</td>\n",
       "      <td>609978946</td>\n",
       "      <td>626392880</td>\n",
       "      <td>643090131</td>\n",
       "      <td>660046272</td>\n",
       "      <td>677243299</td>\n",
       "      <td>694664000</td>\n",
       "    </tr>\n",
       "    <tr>\n",
       "      <th>3</th>\n",
       "      <td>Africa Western and Central</td>\n",
       "      <td>AFW</td>\n",
       "      <td>Population, total</td>\n",
       "      <td>SP.POP.TOTL</td>\n",
       "      <td>96396419</td>\n",
       "      <td>98407221</td>\n",
       "      <td>100506960</td>\n",
       "      <td>102691339</td>\n",
       "      <td>104953470</td>\n",
       "      <td>107289875</td>\n",
       "      <td>...</td>\n",
       "      <td>370243017</td>\n",
       "      <td>380437896</td>\n",
       "      <td>390882979</td>\n",
       "      <td>401586651</td>\n",
       "      <td>412551299</td>\n",
       "      <td>423769930</td>\n",
       "      <td>435229381</td>\n",
       "      <td>446911598</td>\n",
       "      <td>458803476</td>\n",
       "      <td>470898000</td>\n",
       "    </tr>\n",
       "    <tr>\n",
       "      <th>4</th>\n",
       "      <td>Albania</td>\n",
       "      <td>ALB</td>\n",
       "      <td>Population, total</td>\n",
       "      <td>SP.POP.TOTL</td>\n",
       "      <td>1608800</td>\n",
       "      <td>1659800</td>\n",
       "      <td>1711319</td>\n",
       "      <td>1762621</td>\n",
       "      <td>1814135</td>\n",
       "      <td>1864791</td>\n",
       "      <td>...</td>\n",
       "      <td>2900401</td>\n",
       "      <td>2895092</td>\n",
       "      <td>2889104</td>\n",
       "      <td>2880703</td>\n",
       "      <td>2876101</td>\n",
       "      <td>2873457</td>\n",
       "      <td>2866376</td>\n",
       "      <td>2854191</td>\n",
       "      <td>2837743</td>\n",
       "      <td>2832000</td>\n",
       "    </tr>\n",
       "  </tbody>\n",
       "</table>\n",
       "<p>5 rows × 66 columns</p>\n",
       "</div>"
      ],
      "text/plain": [
       "                  Country Name Country Code        Series Name  Series Code  \\\n",
       "0                        Aruba          ABW  Population, total  SP.POP.TOTL   \n",
       "1                  Afghanistan          AFG  Population, total  SP.POP.TOTL   \n",
       "2  Africa Eastern and Southern          AFE  Population, total  SP.POP.TOTL   \n",
       "3   Africa Western and Central          AFW  Population, total  SP.POP.TOTL   \n",
       "4                      Albania          ALB  Population, total  SP.POP.TOTL   \n",
       "\n",
       "        1960       1961       1962       1963       1964       1965  ...  \\\n",
       "0      54211      55438      56225      56695      57032      57360  ...   \n",
       "1    8996967    9169406    9351442    9543200    9744772    9956318  ...   \n",
       "2  130836765  134159786  137614644  141202036  144920186  148769974  ...   \n",
       "3   96396419   98407221  100506960  102691339  104953470  107289875  ...   \n",
       "4    1608800    1659800    1711319    1762621    1814135    1864791  ...   \n",
       "\n",
       "        2012       2013       2014       2015       2016       2017  \\\n",
       "0     102560     103159     103774     104341     104872     105366   \n",
       "1   31161378   32269592   33370804   34413603   35383028   36296111   \n",
       "2  547482863  562601578  578075373  593871847  609978946  626392880   \n",
       "3  370243017  380437896  390882979  401586651  412551299  423769930   \n",
       "4    2900401    2895092    2889104    2880703    2876101    2873457   \n",
       "\n",
       "        2018       2019       2020       2021  \n",
       "0     105845     106314        NaN        NaN  \n",
       "1   37171922   38041757   38928341   39835000  \n",
       "2  643090131  660046272  677243299  694664000  \n",
       "3  435229381  446911598  458803476  470898000  \n",
       "4    2866376    2854191    2837743    2832000  \n",
       "\n",
       "[5 rows x 66 columns]"
      ]
     },
     "execution_count": 3,
     "metadata": {},
     "output_type": "execute_result"
    }
   ],
   "source": [
    "population_df.head()"
   ]
  },
  {
   "cell_type": "code",
   "execution_count": 4,
   "metadata": {},
   "outputs": [
    {
     "data": {
      "text/html": [
       "<div>\n",
       "<style scoped>\n",
       "    .dataframe tbody tr th:only-of-type {\n",
       "        vertical-align: middle;\n",
       "    }\n",
       "\n",
       "    .dataframe tbody tr th {\n",
       "        vertical-align: top;\n",
       "    }\n",
       "\n",
       "    .dataframe thead th {\n",
       "        text-align: right;\n",
       "    }\n",
       "</style>\n",
       "<table border=\"1\" class=\"dataframe\">\n",
       "  <thead>\n",
       "    <tr style=\"text-align: right;\">\n",
       "      <th></th>\n",
       "      <th>Country Name</th>\n",
       "      <th>Country Code</th>\n",
       "      <th>Indicator Name</th>\n",
       "      <th>Indicator Code</th>\n",
       "      <th>1960</th>\n",
       "      <th>1961</th>\n",
       "      <th>1962</th>\n",
       "      <th>1963</th>\n",
       "      <th>1964</th>\n",
       "      <th>1965</th>\n",
       "      <th>...</th>\n",
       "      <th>2011</th>\n",
       "      <th>2012</th>\n",
       "      <th>2013</th>\n",
       "      <th>2014</th>\n",
       "      <th>2015</th>\n",
       "      <th>2016</th>\n",
       "      <th>2017</th>\n",
       "      <th>2018</th>\n",
       "      <th>2019</th>\n",
       "      <th>2020</th>\n",
       "    </tr>\n",
       "  </thead>\n",
       "  <tbody>\n",
       "    <tr>\n",
       "      <th>0</th>\n",
       "      <td>Aruba</td>\n",
       "      <td>ABW</td>\n",
       "      <td>GDP (current US$)</td>\n",
       "      <td>NY.GDP.MKTP.CD</td>\n",
       "      <td>NaN</td>\n",
       "      <td>NaN</td>\n",
       "      <td>NaN</td>\n",
       "      <td>NaN</td>\n",
       "      <td>NaN</td>\n",
       "      <td>NaN</td>\n",
       "      <td>...</td>\n",
       "      <td>2.549721e+09</td>\n",
       "      <td>2.534637e+09</td>\n",
       "      <td>2.727850e+09</td>\n",
       "      <td>2.790849e+09</td>\n",
       "      <td>2.962905e+09</td>\n",
       "      <td>2.983637e+09</td>\n",
       "      <td>3.092430e+09</td>\n",
       "      <td>3.202189e+09</td>\n",
       "      <td>NaN</td>\n",
       "      <td>NaN</td>\n",
       "    </tr>\n",
       "    <tr>\n",
       "      <th>1</th>\n",
       "      <td>Africa Eastern and Southern</td>\n",
       "      <td>AFE</td>\n",
       "      <td>GDP (current US$)</td>\n",
       "      <td>NY.GDP.MKTP.CD</td>\n",
       "      <td>1.929944e+10</td>\n",
       "      <td>1.970954e+10</td>\n",
       "      <td>2.147872e+10</td>\n",
       "      <td>2.571501e+10</td>\n",
       "      <td>2.351080e+10</td>\n",
       "      <td>2.679160e+10</td>\n",
       "      <td>...</td>\n",
       "      <td>9.427110e+11</td>\n",
       "      <td>9.498490e+11</td>\n",
       "      <td>9.635600e+11</td>\n",
       "      <td>9.837490e+11</td>\n",
       "      <td>9.186470e+11</td>\n",
       "      <td>8.720230e+11</td>\n",
       "      <td>9.842560e+11</td>\n",
       "      <td>1.011720e+12</td>\n",
       "      <td>1.008380e+12</td>\n",
       "      <td>9.188150e+11</td>\n",
       "    </tr>\n",
       "    <tr>\n",
       "      <th>2</th>\n",
       "      <td>Afghanistan</td>\n",
       "      <td>AFG</td>\n",
       "      <td>GDP (current US$)</td>\n",
       "      <td>NY.GDP.MKTP.CD</td>\n",
       "      <td>5.377778e+08</td>\n",
       "      <td>5.488889e+08</td>\n",
       "      <td>5.466667e+08</td>\n",
       "      <td>7.511112e+08</td>\n",
       "      <td>8.000000e+08</td>\n",
       "      <td>1.006667e+09</td>\n",
       "      <td>...</td>\n",
       "      <td>1.780511e+10</td>\n",
       "      <td>1.990732e+10</td>\n",
       "      <td>2.014640e+10</td>\n",
       "      <td>2.049713e+10</td>\n",
       "      <td>1.913421e+10</td>\n",
       "      <td>1.811656e+10</td>\n",
       "      <td>1.875347e+10</td>\n",
       "      <td>1.805323e+10</td>\n",
       "      <td>1.879945e+10</td>\n",
       "      <td>2.011614e+10</td>\n",
       "    </tr>\n",
       "    <tr>\n",
       "      <th>3</th>\n",
       "      <td>Africa Western and Central</td>\n",
       "      <td>AFW</td>\n",
       "      <td>GDP (current US$)</td>\n",
       "      <td>NY.GDP.MKTP.CD</td>\n",
       "      <td>1.040428e+10</td>\n",
       "      <td>1.112805e+10</td>\n",
       "      <td>1.194335e+10</td>\n",
       "      <td>1.267652e+10</td>\n",
       "      <td>1.383858e+10</td>\n",
       "      <td>1.486247e+10</td>\n",
       "      <td>...</td>\n",
       "      <td>6.709630e+11</td>\n",
       "      <td>7.275710e+11</td>\n",
       "      <td>8.207880e+11</td>\n",
       "      <td>8.514870e+11</td>\n",
       "      <td>7.607300e+11</td>\n",
       "      <td>6.905430e+11</td>\n",
       "      <td>6.837420e+11</td>\n",
       "      <td>7.416920e+11</td>\n",
       "      <td>7.945720e+11</td>\n",
       "      <td>7.845880e+11</td>\n",
       "    </tr>\n",
       "    <tr>\n",
       "      <th>4</th>\n",
       "      <td>Angola</td>\n",
       "      <td>AGO</td>\n",
       "      <td>GDP (current US$)</td>\n",
       "      <td>NY.GDP.MKTP.CD</td>\n",
       "      <td>NaN</td>\n",
       "      <td>NaN</td>\n",
       "      <td>NaN</td>\n",
       "      <td>NaN</td>\n",
       "      <td>NaN</td>\n",
       "      <td>NaN</td>\n",
       "      <td>...</td>\n",
       "      <td>1.117900e+11</td>\n",
       "      <td>1.280530e+11</td>\n",
       "      <td>1.367100e+11</td>\n",
       "      <td>1.457120e+11</td>\n",
       "      <td>1.161940e+11</td>\n",
       "      <td>1.011240e+11</td>\n",
       "      <td>1.221240e+11</td>\n",
       "      <td>1.013530e+11</td>\n",
       "      <td>8.941719e+10</td>\n",
       "      <td>5.837598e+10</td>\n",
       "    </tr>\n",
       "  </tbody>\n",
       "</table>\n",
       "<p>5 rows × 65 columns</p>\n",
       "</div>"
      ],
      "text/plain": [
       "                  Country Name Country Code     Indicator Name  \\\n",
       "0                        Aruba          ABW  GDP (current US$)   \n",
       "1  Africa Eastern and Southern          AFE  GDP (current US$)   \n",
       "2                  Afghanistan          AFG  GDP (current US$)   \n",
       "3   Africa Western and Central          AFW  GDP (current US$)   \n",
       "4                       Angola          AGO  GDP (current US$)   \n",
       "\n",
       "   Indicator Code          1960          1961          1962          1963  \\\n",
       "0  NY.GDP.MKTP.CD           NaN           NaN           NaN           NaN   \n",
       "1  NY.GDP.MKTP.CD  1.929944e+10  1.970954e+10  2.147872e+10  2.571501e+10   \n",
       "2  NY.GDP.MKTP.CD  5.377778e+08  5.488889e+08  5.466667e+08  7.511112e+08   \n",
       "3  NY.GDP.MKTP.CD  1.040428e+10  1.112805e+10  1.194335e+10  1.267652e+10   \n",
       "4  NY.GDP.MKTP.CD           NaN           NaN           NaN           NaN   \n",
       "\n",
       "           1964          1965  ...          2011          2012          2013  \\\n",
       "0           NaN           NaN  ...  2.549721e+09  2.534637e+09  2.727850e+09   \n",
       "1  2.351080e+10  2.679160e+10  ...  9.427110e+11  9.498490e+11  9.635600e+11   \n",
       "2  8.000000e+08  1.006667e+09  ...  1.780511e+10  1.990732e+10  2.014640e+10   \n",
       "3  1.383858e+10  1.486247e+10  ...  6.709630e+11  7.275710e+11  8.207880e+11   \n",
       "4           NaN           NaN  ...  1.117900e+11  1.280530e+11  1.367100e+11   \n",
       "\n",
       "           2014          2015          2016          2017          2018  \\\n",
       "0  2.790849e+09  2.962905e+09  2.983637e+09  3.092430e+09  3.202189e+09   \n",
       "1  9.837490e+11  9.186470e+11  8.720230e+11  9.842560e+11  1.011720e+12   \n",
       "2  2.049713e+10  1.913421e+10  1.811656e+10  1.875347e+10  1.805323e+10   \n",
       "3  8.514870e+11  7.607300e+11  6.905430e+11  6.837420e+11  7.416920e+11   \n",
       "4  1.457120e+11  1.161940e+11  1.011240e+11  1.221240e+11  1.013530e+11   \n",
       "\n",
       "           2019          2020  \n",
       "0           NaN           NaN  \n",
       "1  1.008380e+12  9.188150e+11  \n",
       "2  1.879945e+10  2.011614e+10  \n",
       "3  7.945720e+11  7.845880e+11  \n",
       "4  8.941719e+10  5.837598e+10  \n",
       "\n",
       "[5 rows x 65 columns]"
      ]
     },
     "execution_count": 4,
     "metadata": {},
     "output_type": "execute_result"
    }
   ],
   "source": [
    "gdp_df.head()"
   ]
  },
  {
   "cell_type": "code",
   "execution_count": 5,
   "metadata": {},
   "outputs": [
    {
     "data": {
      "text/plain": [
       "(                  Country Name  Missing Years Population 2001-2020\n",
       " 0                        Aruba                                   1\n",
       " 1                  Afghanistan                                   0\n",
       " 2  Africa Eastern and Southern                                   0\n",
       " 3   Africa Western and Central                                   0\n",
       " 4                      Albania                                   0,\n",
       "                   Country Name  Missing Years GDP 2001-2020\n",
       " 0                        Aruba                            2\n",
       " 1  Africa Eastern and Southern                            0\n",
       " 2                  Afghanistan                            1\n",
       " 3   Africa Western and Central                            0\n",
       " 4                       Angola                            0)"
      ]
     },
     "execution_count": 5,
     "metadata": {},
     "output_type": "execute_result"
    }
   ],
   "source": [
    "# Identify the number of missing years for each country in the population dataset\n",
    "population_missing_years = population_df.loc[:, '2001':'2020'].isna().sum(axis=1)\n",
    "gdp_missing_years = gdp_df.loc[:, '2001':'2020'].isna().sum(axis=1)\n",
    "\n",
    "# Add this information back to the dataframes\n",
    "population_df['Missing Years Population 2001-2020'] = population_missing_years\n",
    "gdp_df['Missing Years GDP 2001-2020'] = gdp_missing_years\n",
    "\n",
    "# Display a preview to check for missing data\n",
    "population_df[['Country Name', 'Missing Years Population 2001-2020']].head(), gdp_df[['Country Name', 'Missing Years GDP 2001-2020']].head()\n",
    "\n"
   ]
  },
  {
   "cell_type": "markdown",
   "metadata": {},
   "source": [
    "So I can see their are a few missing values for Aruba and Afghanistan, however their seems to be quite a few countries with '..' instead of no value which is causing errors. I have decided to turn these into NaN, if a country has more then 5 NaN values, it will be removed. "
   ]
  },
  {
   "cell_type": "code",
   "execution_count": 6,
   "metadata": {},
   "outputs": [
    {
     "name": "stderr",
     "output_type": "stream",
     "text": [
      "C:\\Users\\Hamid\\AppData\\Local\\Temp/ipykernel_11044/2568255617.py:24: SettingWithCopyWarning: \n",
      "A value is trying to be set on a copy of a slice from a DataFrame.\n",
      "Try using .loc[row_indexer,col_indexer] = value instead\n",
      "\n",
      "See the caveats in the documentation: https://pandas.pydata.org/pandas-docs/stable/user_guide/indexing.html#returning-a-view-versus-a-copy\n",
      "  gdp_df_filtered[year] = pd.to_numeric(gdp_df_filtered[year], errors='coerce')\n",
      "C:\\Users\\Hamid\\AppData\\Local\\Temp/ipykernel_11044/2568255617.py:25: SettingWithCopyWarning: \n",
      "A value is trying to be set on a copy of a slice from a DataFrame.\n",
      "Try using .loc[row_indexer,col_indexer] = value instead\n",
      "\n",
      "See the caveats in the documentation: https://pandas.pydata.org/pandas-docs/stable/user_guide/indexing.html#returning-a-view-versus-a-copy\n",
      "  population_df_filtered[year] = pd.to_numeric(population_df_filtered[year], errors='coerce')\n",
      "C:\\Users\\Hamid\\AppData\\Local\\Temp/ipykernel_11044/2568255617.py:28: SettingWithCopyWarning: \n",
      "A value is trying to be set on a copy of a slice from a DataFrame.\n",
      "Try using .loc[row_indexer,col_indexer] = value instead\n",
      "\n",
      "See the caveats in the documentation: https://pandas.pydata.org/pandas-docs/stable/user_guide/indexing.html#returning-a-view-versus-a-copy\n",
      "  gdp_df_filtered['Mean GDP 2000-2020'] = gdp_df_filtered[years].mean(axis=1)\n",
      "C:\\Users\\Hamid\\AppData\\Local\\Temp/ipykernel_11044/2568255617.py:29: SettingWithCopyWarning: \n",
      "A value is trying to be set on a copy of a slice from a DataFrame.\n",
      "Try using .loc[row_indexer,col_indexer] = value instead\n",
      "\n",
      "See the caveats in the documentation: https://pandas.pydata.org/pandas-docs/stable/user_guide/indexing.html#returning-a-view-versus-a-copy\n",
      "  population_df_filtered['Mean Population 2000-2020'] = population_df_filtered[years].mean(axis=1)\n",
      "C:\\Users\\Hamid\\AppData\\Local\\Temp/ipykernel_11044/2568255617.py:32: SettingWithCopyWarning: \n",
      "A value is trying to be set on a copy of a slice from a DataFrame\n",
      "\n",
      "See the caveats in the documentation: https://pandas.pydata.org/pandas-docs/stable/user_guide/indexing.html#returning-a-view-versus-a-copy\n",
      "  gdp_df_filtered.drop(columns=['Flag for Removal'], inplace=True)\n",
      "C:\\Users\\Hamid\\AppData\\Local\\Temp/ipykernel_11044/2568255617.py:33: SettingWithCopyWarning: \n",
      "A value is trying to be set on a copy of a slice from a DataFrame\n",
      "\n",
      "See the caveats in the documentation: https://pandas.pydata.org/pandas-docs/stable/user_guide/indexing.html#returning-a-view-versus-a-copy\n",
      "  population_df_filtered.drop(columns=['Flag for Removal'], inplace=True)\n"
     ]
    },
    {
     "data": {
      "text/plain": [
       "(                  Country Name  Mean GDP 2000-2020\n",
       " 0                        Aruba        2.517572e+09\n",
       " 1  Africa Eastern and Southern        7.222284e+11\n",
       " 2                  Afghanistan        1.402300e+10\n",
       " 3   Africa Western and Central        5.372093e+11\n",
       " 4                       Angola        7.537299e+10,\n",
       "                   Country Name  Mean Population 2000-2020\n",
       " 0                        Aruba               1.009671e+05\n",
       " 1                  Afghanistan               2.976380e+07\n",
       " 2  Africa Eastern and Southern               5.257466e+08\n",
       " 3   Africa Western and Central               3.550782e+08\n",
       " 4                      Albania               2.943192e+06)"
      ]
     },
     "execution_count": 6,
     "metadata": {},
     "output_type": "execute_result"
    }
   ],
   "source": [
    "\n",
    "# Function to replace '..' with NaN and flag countries with more than 5 missing values\n",
    "def preprocess_and_flag(df, years):\n",
    "    # Replace '..' with NaN\n",
    "    df[years] = df[years].replace('..', pd.NA)\n",
    "    # Count the number of NaN values for each country in the specified years\n",
    "    missing_years = df[years].isna().sum(axis=1)\n",
    "    # Flag countries with more than 5 missing years\n",
    "    df['Flag for Removal'] = missing_years > 5\n",
    "    return df\n",
    "\n",
    "# Define the years of interest\n",
    "years = [str(year) for year in range(2000, 2021)]\n",
    "\n",
    "# Preprocess GDP and Population datasets\n",
    "gdp_df = preprocess_and_flag(gdp_df, years)\n",
    "population_df = preprocess_and_flag(population_df, years)\n",
    "\n",
    "# Remove flagged countries\n",
    "gdp_df_filtered = gdp_df[~gdp_df['Flag for Removal']]\n",
    "population_df_filtered = population_df[~population_df['Flag for Removal']]\n",
    "\n",
    "# Convert the relevant columns to numeric, safely handling NaN\n",
    "for year in years:\n",
    "    gdp_df_filtered[year] = pd.to_numeric(gdp_df_filtered[year], errors='coerce')\n",
    "    population_df_filtered[year] = pd.to_numeric(population_df_filtered[year], errors='coerce')\n",
    "\n",
    "# Recalculate the mean values for GDP and Population\n",
    "gdp_df_filtered['Mean GDP 2000-2020'] = gdp_df_filtered[years].mean(axis=1)\n",
    "population_df_filtered['Mean Population 2000-2020'] = population_df_filtered[years].mean(axis=1)\n",
    "\n",
    "# Remove the flag columns for cleanliness\n",
    "gdp_df_filtered.drop(columns=['Flag for Removal'], inplace=True)\n",
    "population_df_filtered.drop(columns=['Flag for Removal'], inplace=True)\n",
    "\n",
    "# Display the updated dataframes\n",
    "gdp_df_filtered[['Country Name', 'Mean GDP 2000-2020']].head(), population_df_filtered[['Country Name', 'Mean Population 2000-2020']].head()\n"
   ]
  },
  {
   "cell_type": "code",
   "execution_count": 7,
   "metadata": {},
   "outputs": [],
   "source": [
    "# Identifying the years to calculate the mean\n",
    "years = [str(year) for year in range(2001, 2021)]\n",
    "\n",
    "# Calculating mean GDP for the years 2001-2020\n",
    "gdp_df['Mean GDP 2001-2020'] = gdp_df[years].mean(axis=1)\n"
   ]
  },
  {
   "cell_type": "code",
   "execution_count": 8,
   "metadata": {},
   "outputs": [
    {
     "data": {
      "text/html": [
       "<div>\n",
       "<style scoped>\n",
       "    .dataframe tbody tr th:only-of-type {\n",
       "        vertical-align: middle;\n",
       "    }\n",
       "\n",
       "    .dataframe tbody tr th {\n",
       "        vertical-align: top;\n",
       "    }\n",
       "\n",
       "    .dataframe thead th {\n",
       "        text-align: right;\n",
       "    }\n",
       "</style>\n",
       "<table border=\"1\" class=\"dataframe\">\n",
       "  <thead>\n",
       "    <tr style=\"text-align: right;\">\n",
       "      <th></th>\n",
       "      <th>Country Name</th>\n",
       "      <th>Mean GDP 2001-2020</th>\n",
       "    </tr>\n",
       "  </thead>\n",
       "  <tbody>\n",
       "    <tr>\n",
       "      <th>0</th>\n",
       "      <td>Aruba</td>\n",
       "      <td>2.553357e+09</td>\n",
       "    </tr>\n",
       "    <tr>\n",
       "      <th>1</th>\n",
       "      <td>Africa Eastern and Southern</td>\n",
       "      <td>7.441522e+11</td>\n",
       "    </tr>\n",
       "    <tr>\n",
       "      <th>2</th>\n",
       "      <td>Afghanistan</td>\n",
       "      <td>1.402300e+10</td>\n",
       "    </tr>\n",
       "    <tr>\n",
       "      <th>3</th>\n",
       "      <td>Africa Western and Central</td>\n",
       "      <td>5.570494e+11</td>\n",
       "    </tr>\n",
       "    <tr>\n",
       "      <th>4</th>\n",
       "      <td>Angola</td>\n",
       "      <td>7.868516e+10</td>\n",
       "    </tr>\n",
       "  </tbody>\n",
       "</table>\n",
       "</div>"
      ],
      "text/plain": [
       "                  Country Name  Mean GDP 2001-2020\n",
       "0                        Aruba        2.553357e+09\n",
       "1  Africa Eastern and Southern        7.441522e+11\n",
       "2                  Afghanistan        1.402300e+10\n",
       "3   Africa Western and Central        5.570494e+11\n",
       "4                       Angola        7.868516e+10"
      ]
     },
     "execution_count": 8,
     "metadata": {},
     "output_type": "execute_result"
    }
   ],
   "source": [
    "# Displaying the cleaned GDP data\n",
    "cleaned_gdp_head = gdp_df[['Country Name', 'Mean GDP 2001-2020']].head()\n",
    "cleaned_gdp_head"
   ]
  },
  {
   "cell_type": "code",
   "execution_count": 9,
   "metadata": {},
   "outputs": [
    {
     "data": {
      "image/png": "[encoded data removed]",
      "text/plain": [
       "<Figure size 720x432 with 1 Axes>"
      ]
     },
     "metadata": {
      "needs_background": "light"
     },
     "output_type": "display_data"
    }
   ],
   "source": [
    "import matplotlib.pyplot as plt\n",
    "\n",
    "# Merge the two datasets on 'Country Name' to align the GDP and population data\n",
    "merged_df = pd.merge(gdp_df_filtered[['Country Name', 'Mean GDP 2000-2020']],\n",
    "                     population_df_filtered[['Country Name', 'Mean Population 2000-2020']],\n",
    "                     on='Country Name')\n",
    "\n",
    "# Create a scatter plot\n",
    "plt.figure(figsize=(10, 6))\n",
    "plt.scatter(merged_df['Mean Population 2000-2020'], merged_df['Mean GDP 2000-2020'])\n",
    "\n",
    "# Adding titles and labels\n",
    "plt.title('GDP vs. Population (2000-2020 Mean Values)')\n",
    "plt.xlabel('Mean Population (2000-2020)')\n",
    "plt.ylabel('Mean GDP (2000-2020)')\n",
    "plt.xscale('log')  # Using a logarithmic scale for the x-axis can help with wide data ranges\n",
    "plt.yscale('log')  # Using a logarithmic scale for the y-axis can help with wide data ranges\n",
    "plt.grid(True)\n",
    "\n",
    "# Show plot\n",
    "plt.show()\n",
    "\n"
   ]
  },
  {
   "cell_type": "markdown",
   "metadata": {},
   "source": [
    "So I think it would better if I normalise the data before. "
   ]
  },
  {
   "cell_type": "code",
   "execution_count": 10,
   "metadata": {},
   "outputs": [
    {
     "data": {
      "image/png": "[encoded data removed]",
      "text/plain": [
       "<Figure size 720x432 with 1 Axes>"
      ]
     },
     "metadata": {
      "needs_background": "light"
     },
     "output_type": "display_data"
    },
    {
     "name": "stdout",
     "output_type": "stream",
     "text": [
      "Pearson Correlation Coefficient: -0.09887399904664362\n"
     ]
    }
   ],
   "source": [
    "# Calculate the mean per capita GDP for each country\n",
    "merged_df['Mean Per Capita GDP'] = merged_df['Mean GDP 2000-2020'] / merged_df['Mean Population 2000-2020']\n",
    "\n",
    "# Visualize the relationship between mean population and mean per capita GDP\n",
    "plt.figure(figsize=(10, 6))\n",
    "plt.scatter(merged_df['Mean Population 2000-2020'], merged_df['Mean Per Capita GDP'])\n",
    "\n",
    "# Adding titles and labels\n",
    "plt.title('Mean Population vs. Mean Per Capita GDP (2000-2020)')\n",
    "plt.xlabel('Mean Population (2000-2020)')\n",
    "plt.ylabel('Mean Per Capita GDP (2000-2020)')\n",
    "plt.xscale('log')  # Using a logarithmic scale for the x-axis\n",
    "plt.grid(True)\n",
    "\n",
    "# Show plot\n",
    "plt.show()\n",
    "\n",
    "# Compute the Pearson correlation coefficient\n",
    "correlation_coefficient = merged_df['Mean Population 2000-2020'].corr(merged_df['Mean Per Capita GDP'])\n",
    "print(\"Pearson Correlation Coefficient:\", correlation_coefficient)\n"
   ]
  },
  {
   "cell_type": "code",
   "execution_count": 13,
   "metadata": {},
   "outputs": [
    {
     "data": {
      "application/vnd.plotly.v1+json": {
       "config": {
        "plotlyServerURL": "https://plot.ly"
       },
       "data": [
        {
         "hovertemplate": "<b>%{hovertext}</b><br><br>Mean Population (2000-2020)=%{x}<br>Mean Per Capita GDP (2000-2020)=%{y}<extra></extra>",
         "hovertext": [
          "Aruba",
          "Aruba",
          "Africa Eastern and Southern",
          "Afghanistan",
          "Africa Western and Central",
          "Angola",
          "Albania",
          "Andorra",
          "Arab World",
          "United Arab Emirates",
          "Argentina",
          "Armenia",
          "American Samoa",
          "Antigua and Barbuda",
          "Australia",
          "Austria",
          "Azerbaijan",
          "Burundi",
          "Belgium",
          "Benin",
          "Burkina Faso",
          "Bangladesh",
          "Bulgaria",
          "Bahrain",
          "Bahamas, The",
          "Bosnia and Herzegovina",
          "Belarus",
          "Belize",
          "Bermuda",
          "Bolivia",
          "Brazil",
          "Barbados",
          "Brunei Darussalam",
          "Bhutan",
          "Botswana",
          "Central African Republic",
          "Canada",
          "Central Europe and the Baltics",
          "Switzerland",
          "Chile",
          "China",
          "Cote d'Ivoire",
          "Cameroon",
          "Congo, Dem. Rep.",
          "Congo, Rep.",
          "Colombia",
          "Comoros",
          "Cabo Verde",
          "Costa Rica",
          "Caribbean small states",
          "Cuba",
          "Cyprus",
          "Czech Republic",
          "Germany",
          "Djibouti",
          "Dominica",
          "Denmark",
          "Dominican Republic",
          "Algeria",
          "East Asia & Pacific (excluding high income)",
          "Early-demographic dividend",
          "East Asia & Pacific",
          "Europe & Central Asia (excluding high income)",
          "Europe & Central Asia",
          "Ecuador",
          "Egypt, Arab Rep.",
          "Euro area",
          "Spain",
          "Estonia",
          "Ethiopia",
          "European Union",
          "Fragile and conflict affected situations",
          "Finland",
          "Fiji",
          "France",
          "Faroe Islands",
          "Micronesia, Fed. Sts.",
          "Gabon",
          "United Kingdom",
          "Georgia",
          "Ghana",
          "Guinea",
          "Gambia, The",
          "Guinea-Bissau",
          "Equatorial Guinea",
          "Greece",
          "Grenada",
          "Greenland",
          "Guatemala",
          "Guam",
          "Guyana",
          "High income",
          "Hong Kong SAR, China",
          "Honduras",
          "Heavily indebted poor countries (HIPC)",
          "Croatia",
          "Haiti",
          "Hungary",
          "IDA & IBRD total",
          "Indonesia",
          "Isle of Man",
          "India",
          "Ireland",
          "Iran, Islamic Rep.",
          "Iraq",
          "Iceland",
          "Israel",
          "Italy",
          "Jamaica",
          "Jordan",
          "Japan",
          "Kazakhstan",
          "Kenya",
          "Kyrgyz Republic",
          "Cambodia",
          "Kiribati",
          "St. Kitts and Nevis",
          "Korea, Rep.",
          "Kuwait",
          "Latin America & Caribbean (excluding high income)",
          "Lao PDR",
          "Lebanon",
          "Liberia",
          "Libya",
          "St. Lucia",
          "Latin America & Caribbean",
          "Least developed countries: UN classification",
          "Low income",
          "Liechtenstein",
          "Sri Lanka",
          "Lower middle income",
          "Low & middle income",
          "Lesotho",
          "Late-demographic dividend",
          "Lithuania",
          "Luxembourg",
          "Latvia",
          "Macao SAR, China",
          "Morocco",
          "Monaco",
          "Moldova",
          "Madagascar",
          "Maldives",
          "Middle East & North Africa",
          "Mexico",
          "Marshall Islands",
          "Middle income",
          "North Macedonia",
          "Mali",
          "Malta",
          "Myanmar",
          "Middle East & North Africa (excluding high income)",
          "Montenegro",
          "Mongolia",
          "Northern Mariana Islands",
          "Mozambique",
          "Mauritania",
          "Mauritius",
          "Malawi",
          "Malaysia",
          "North America",
          "Namibia",
          "New Caledonia",
          "Niger",
          "Nigeria",
          "Nicaragua",
          "Netherlands",
          "Norway",
          "Nepal",
          "New Zealand",
          "OECD members",
          "Oman",
          "Other small states",
          "Pakistan",
          "Panama",
          "Peru",
          "Philippines",
          "Palau",
          "Papua New Guinea",
          "Poland",
          "Pre-demographic dividend",
          "Puerto Rico",
          "Portugal",
          "Paraguay",
          "West Bank and Gaza",
          "Pacific island small states",
          "Post-demographic dividend",
          "Qatar",
          "Romania",
          "Russian Federation",
          "Rwanda",
          "South Asia",
          "Saudi Arabia",
          "Sudan",
          "Senegal",
          "Singapore",
          "Solomon Islands",
          "Sierra Leone",
          "El Salvador",
          "San Marino",
          "Serbia",
          "Sub-Saharan Africa (excluding high income)",
          "Sub-Saharan Africa",
          "Small states",
          "Sao Tome and Principe",
          "Suriname",
          "Slovak Republic",
          "Slovenia",
          "Sweden",
          "Eswatini",
          "Seychelles",
          "Syrian Arab Republic",
          "Turks and Caicos Islands",
          "Chad",
          "East Asia & Pacific (IDA & IBRD countries)",
          "Europe & Central Asia (IDA & IBRD countries)",
          "Togo",
          "Thailand",
          "Tajikistan",
          "Turkmenistan",
          "Latin America & the Caribbean (IDA & IBRD countries)",
          "Timor-Leste",
          "Middle East & North Africa (IDA & IBRD countries)",
          "Tonga",
          "South Asia (IDA & IBRD)",
          "Sub-Saharan Africa (IDA & IBRD countries)",
          "Trinidad and Tobago",
          "Tunisia",
          "Turkey",
          "Tuvalu",
          "Tanzania",
          "Uganda",
          "Ukraine",
          "Upper middle income",
          "Uruguay",
          "United States",
          "Uzbekistan",
          "St. Vincent and the Grenadines",
          "Virgin Islands (U.S.)",
          "Vietnam",
          "Vanuatu",
          "World",
          "Samoa",
          "Yemen, Rep.",
          "South Africa",
          "Zambia",
          "Zimbabwe"
         ],
         "legendgroup": "",
         "marker": {
          "color": "#636efa",
          "symbol": "circle"
         },
         "mode": "markers",
         "name": "",
         "orientation": "v",
         "showlegend": false,
         "type": "scatter",
         "x": [
          100967.15,
          101243.61904761905,
          525746557.47619045,
          29763795.333333332,
          355078223,
          23815543.76190476,
          2943192.0476190476,
          77971.28571428571,
          356192882.04761904,
          7200647.285714285,
          41003373.23809524,
          2950861.0476190476,
          57043.52380952381,
          87529.42857142857,
          22164509.04761905,
          8424370.333333334,
          9039720.57142857,
          8825927.238095239,
          10889936.61904762,
          9310359.38095238,
          15843253.523809524,
          147286328.57142857,
          7433639.952380952,
          1169669,
          349762.4285714286,
          3602163.380952381,
          9574997.238095239,
          322489.09523809527,
          64229.142857142855,
          10049068.095238095,
          195025876.9047619,
          280805.3333333333,
          388609.7619047619,
          686057.9523809524,
          1975737.4285714286,
          4285390.952380952,
          34087222.71428572,
          104711523.42857143,
          7863685.571428572,
          17121075.38095238,
          1340249493.4285715,
          20883290,
          20595817.57142857,
          65947446.333333336,
          4266823.095238095,
          45182170.76190476,
          696147.619047619,
          493237.5714285714,
          4560960.095238095,
          6979438.666666667,
          11262599.047619049,
          1094083.4761904762,
          10422171.238095239,
          82060114.52380952,
          847996.2380952381,
          70840.09523809524,
          5561354.952380952,
          9684212.238095239,
          36581670.333333336,
          1969100559.2857144,
          2905651385.952381,
          2209345450,
          401489635.3333333,
          889396328.3333334,
          15055962.523809524,
          84089906.09523809,
          334096644.71428573,
          45121535.76190476,
          1340678.8095238095,
          88842329.33333333,
          439821791.8095238,
          741423649.9523809,
          5360777.714285715,
          850835.8571428572,
          64723697.428571425,
          47853.142857142855,
          107327.09523809524,
          1672686.7142857143,
          62829833.23809524,
          3824072.5714285714,
          24900173.523809522,
          10353617.952380951,
          1821930.5714285714,
          1546992.619047619,
          966288.4761904762,
          10921171.476190476,
          107063.52380952382,
          56486.666666666664,
          14251890.047619049,
          160492.80952380953,
          757283.1904761905,
          1149419438.6190476,
          7060428.571428572,
          8282018.523809524,
          633210104.6666666,
          4250713.761904762,
          9943375.80952381,
          9974383.476190476,
          5805820897.714286,
          242272005.47619048,
          82324.76190476191,
          1227616389.6666667,
          4457614.333333333,
          74212037.1904762,
          31041164.80952381,
          318170,
          7672533.333333333,
          59012711.333333336,
          2812944.238095238,
          7498231.19047619,
          127355160,
          16440294.285714285,
          42343518.9047619,
          5574457.142857143,
          14391277.714285715,
          101979.85714285714,
          48925.09523809524,
          49582096.190476194,
          3069622,
          534361986.7619048,
          6260580.714285715,
          5392906.380952381,
          3887553.1904761903,
          6130842.714285715,
          171707.2380952381,
          588892609.6666666,
          844669177.8571428,
          517435265.71428573,
          35971.380952380954,
          20286225.38095238,
          2882494259.5238094,
          5753246778.428572,
          2036223.0476190476,
          2183823229.428571,
          3113606.523809524,
          519145.28571428574,
          2112490.9523809524,
          540412.0476190476,
          32581924.42857143,
          35718.90476190476,
          2838329.1428571427,
          21357433.14285714,
          388620.1904761905,
          387114466.95238096,
          113971744.28571428,
          55966.333333333336,
          5235811512.714286,
          2052746.0476190476,
          15206801.095238095,
          429065.2380952381,
          50705868.71428572,
          334765480.14285713,
          617320.5714285715,
          2770920.380952381,
          56114.09523809524,
          23877399,
          3550202.761904762,
          1241966.761904762,
          14759199.523809524,
          27988190.61904762,
          342079200.28571427,
          2134942,
          248514.2857142857,
          16955533.333333332,
          160642359,
          5833760,
          16643018.523809524,
          4909850,
          26565556.333333332,
          4386133.333333333,
          1289194897.4285715,
          3381523.476190476,
          26084894.95238095,
          180200013.80952382,
          3653596.761904762,
          29285174.19047619,
          94055340.14285715,
          18526.47619047619,
          7326933.857142857,
          38089142.428571425,
          743241792.9523809,
          3617422.285714286,
          10432060.80952381,
          6248017.571428572,
          3806576.4285714286,
          2221841.6666666665,
          1071449590.8571428,
          1752634.3333333333,
          20534130.714285713,
          143988572.7142857,
          10189127.38095238,
          1632792987.2380953,
          27673292.14285714,
          34981365.14285714,
          12901209.42857143,
          4949065.095238095,
          537681.4761904762,
          6372020.619047619,
          6187864.714285715,
          31133.571428571428,
          7256901.952380952,
          880736129.6666666,
          880824780.4761904,
          35286175.28571428,
          179387.42857142858,
          529150.4761904762,
          5402823.047619048,
          2037742.5238095238,
          9459610.57142857,
          1070920.9047619049,
          88650.80952380953,
          18567645.904761903,
          31534.238095238095,
          12133278,
          1944572790.9047618,
          443829491.52380955,
          6489403.619047619,
          66942714.666666664,
          7661172.380952381,
          5171400.19047619,
          572841943.8571428,
          1095743.857142857,
          330958903.71428573,
          101816,
          1632792987.2380953,
          880824780.4761904,
          1332094.4285714286,
          10672859.238095239,
          73181846.38095239,
          10546.714285714286,
          45205126.23809524,
          33259237.285714287,
          46194524.14285714,
          2353317253.1904764,
          3373325.904761905,
          307927748.4285714,
          28852059.523809522,
          108844.09523809524,
          107993.23809523809,
          88291879.66666667,
          240610.2857142857,
          6930445822.952381,
          186346.33333333334,
          23341719.19047619,
          51666426.71428572,
          13933210.714285715,
          12991881.904761905
         ],
         "xaxis": "x",
         "y": [
          24934.56677532716,
          24866.477191074682,
          1373.7196576605043,
          471.14284889992814,
          1512.9322242729759,
          3164.865535789662,
          3591.042270221902,
          38546.96351440732,
          5556.469688567102,
          39194.108693654285,
          9402.588784747579,
          2867.432835729852,
          10432.47722817814,
          13672.476916226273,
          46663.16500108743,
          43369.53780075364,
          4220.800023812368,
          215.26586801682433,
          40543.6659391288,
          1031.1411257527693,
          631.5073163122904,
          959.6972018180072,
          6091.411503685636,
          21081.226606965607,
          29817.16433099964,
          4159.673303679107,
          4910.344858535381,
          4345.0504053957675,
          93146.67499992586,
          2208.1867085756303,
          8016.509818880775,
          15303.518180362875,
          30906.909575587215,
          2129.2078867695263,
          6068.58626314958,
          409.7976672017811,
          41613.239476687755,
          11305.878504502178,
          72174.66919379866,
          11333.696515844968,
          5174.626093130186,
          1713.7667888992767,
          1317.2152220623416,
          390.43762174760207,
          2389.3837751707433,
          5342.0805511720255,
          1244.326767345459,
          2917.461307914113,
          8450.635042943444,
          8675.840927608504,
          5907.738694587031,
          19360.905966172253,
          17261.023521152223,
          39546.25238864884,
          1845.3854706397228,
          6482.107627708817,
          53229.17452096762,
          5494.556306408914,
          3859.0063639534633,
          5245.972619496255,
          3291.289371479422,
          8460.487266769009,
          6628.783942104641,
          21711.61800220084,
          4603.723002416385,
          2414.5810915039515,
          34598.72263231644,
          27098.770514133896,
          14998.93636631479,
          464.66199008173777,
          30235.650763292026,
          4049.2148034938446,
          43088.701806344165,
          4282.2464505352245,
          37130.641116487044,
          46332.97436009577,
          2801.38038191217,
          7621.621592561337,
          40926.48592540241,
          3020.942015508174,
          1423.3538620702366,
          690.6968736031023,
          694.2645683534749,
          577.4350108420809,
          12433.459484986688,
          21260.792618353375,
          7663.66350502194,
          40054.74703617373,
          3156.6078470440866,
          31270.1334959361,
          4039.1619079344223,
          38022.12661470053,
          35122.857778766964,
          1885.814945728465,
          771.9274883833303,
          12082.331589969725,
          1123.4992070432802,
          12286.36538779652,
          3805.3473621263747,
          2661.8265133501955,
          62109.690076179126,
          1272.6045396806667,
          55936.399365394056,
          4455.58959800143,
          4262.17544590301,
          52776.80568249678,
          31411.994051756672,
          32306.155173164152,
          4543.8231647779185,
          3500.4645121797134,
          39389.070914530894,
          7699.086446891317,
          1151.551041055086,
          905.7529238038127,
          902.1643566265693,
          1419.19748005792,
          15640.745163014015,
          23562.43856149227,
          35273.167813341126,
          7105.14701690818,
          1416.7470150551605,
          6528.558163027457,
          549.2155985444977,
          7707.040479372613,
          8574.494717642321,
          7510.742032735065,
          2860.9934674433134,
          727.7364894905492,
          136034.52391994165,
          2589.5318609989104,
          2253.499056858899,
          3683.6267634103406,
          922.9627592907542,
          6050.8220336786735,
          11872.482268847103,
          99946.47567361407,
          11570.247243098927,
          54573.53630919899,
          2637.0150444678416,
          150152.74841713803,
          2268.881882654235,
          453.2979131993783,
          6988.036131728077,
          6490.600203800481,
          9053.243911169411,
          3017.0321783589284,
          3976.520608198703,
          4275.84550495391,
          688.7067346962108,
          21548.348000026635,
          35160.32483699269,
          3484.2842659295106,
          5823.199027132001,
          2705.7989185405268,
          18333.678435206275,
          488.98902582072935,
          1425.7926599443856,
          7735.689903364488,
          398.9012078923237,
          8450.439401071679,
          49602.812629409345,
          4399.055212763447,
          31620.074596976316,
          455.03142375210007,
          1963.7342473247254,
          1584.3038762307672,
          46102.56010993931,
          75200.91051176522,
          658.0114750252073,
          33397.941594451346,
          33566.98125217223,
          15644.273150508534,
          11343.862813047757,
          1054.276563074308,
          9576.513365759392,
          4800.04461182437,
          2279.404458234394,
          11545.319953939792,
          1948.9761639460814,
          11147.652499811062,
          1262.2873514135435,
          25455.569471015588,
          19956.22679255398,
          4033.8848225908514,
          2591.860289908048,
          3188.4578458989677,
          38188.32192751976,
          64433.48291886926,
          7579.9750139828175,
          8943.800023321097,
          585.1199249807247,
          1213.1601764912411,
          18608.013724630677,
          1100.853878845056,
          1207.9530761637932,
          46505.92278098085,
          1732.7274179853873,
          445.12528914409614,
          3092.5805762413975,
          53172.51780278523,
          5224.162121733424,
          1428.245678878478,
          1429.3223257512059,
          10302.529367359237,
          1353.9631033915418,
          6070.461610119005,
          14823.699440699802,
          21057.653149296188,
          49009.72919342265,
          3338.303274231403,
          12114.58719599155,
          5029.226952351633,
          24149.62562913477,
          711.1829055319317,
          5305.316099035453,
          7068.933244718236,
          599.0905397895687,
          4775.917121599109,
          685.062257879591,
          4446.0185122286675,
          7388.966617038725,
          930.0731301428154,
          3494.5400467472627,
          3489.9210720927013,
          1213.1601764912411,
          1429.3223257512059,
          15015.972924163141,
          3650.0835767113845,
          9011.926607294296,
          2915.3757083451856,
          760.4546454740414,
          637.1902526691249,
          2523.7808332543377,
          6087.017512795119,
          11488.435930943044,
          50478.15238752149,
          1506.167304230572,
          6025.857543292591,
          36939.04115689783,
          1486.290402500926,
          2542.747837681008,
          9401.149479746076,
          3302.234150185791,
          1060.325159952608,
          6186.944862686785,
          1201.7102793471267,
          943.1085967750117
         ],
         "yaxis": "y"
        }
       ],
       "layout": {
        "legend": {
         "tracegroupgap": 0
        },
        "template": {
         "data": {
          "bar": [
           {
            "error_x": {
             "color": "#2a3f5f"
            },
            "error_y": {
             "color": "#2a3f5f"
            },
            "marker": {
             "line": {
              "color": "#E5ECF6",
              "width": 0.5
             },
             "pattern": {
              "fillmode": "overlay",
              "size": 10,
              "solidity": 0.2
             }
            },
            "type": "bar"
           }
          ],
          "barpolar": [
           {
            "marker": {
             "line": {
              "color": "#E5ECF6",
              "width": 0.5
             },
             "pattern": {
              "fillmode": "overlay",
              "size": 10,
              "solidity": 0.2
             }
            },
            "type": "barpolar"
           }
          ],
          "carpet": [
           {
            "aaxis": {
             "endlinecolor": "#2a3f5f",
             "gridcolor": "white",
             "linecolor": "white",
             "minorgridcolor": "white",
             "startlinecolor": "#2a3f5f"
            },
            "baxis": {
             "endlinecolor": "#2a3f5f",
             "gridcolor": "white",
             "linecolor": "white",
             "minorgridcolor": "white",
             "startlinecolor": "#2a3f5f"
            },
            "type": "carpet"
           }
          ],
          "choropleth": [
           {
            "colorbar": {
             "outlinewidth": 0,
             "ticks": ""
            },
            "type": "choropleth"
           }
          ],
          "contour": [
           {
            "colorbar": {
             "outlinewidth": 0,
             "ticks": ""
            },
            "colorscale": [
             [
              0,
              "#0d0887"
             ],
             [
              0.1111111111111111,
              "#46039f"
             ],
             [
              0.2222222222222222,
              "#7201a8"
             ],
             [
              0.3333333333333333,
              "#9c179e"
             ],
             [
              0.4444444444444444,
              "#bd3786"
             ],
             [
              0.5555555555555556,
              "#d8576b"
             ],
             [
              0.6666666666666666,
              "#ed7953"
             ],
             [
              0.7777777777777778,
              "#fb9f3a"
             ],
             [
              0.8888888888888888,
              "#fdca26"
             ],
             [
              1,
              "#f0f921"
             ]
            ],
            "type": "contour"
           }
          ],
          "contourcarpet": [
           {
            "colorbar": {
             "outlinewidth": 0,
             "ticks": ""
            },
            "type": "contourcarpet"
           }
          ],
          "heatmap": [
           {
            "colorbar": {
             "outlinewidth": 0,
             "ticks": ""
            },
            "colorscale": [
             [
              0,
              "#0d0887"
             ],
             [
              0.1111111111111111,
              "#46039f"
             ],
             [
              0.2222222222222222,
              "#7201a8"
             ],
             [
              0.3333333333333333,
              "#9c179e"
             ],
             [
              0.4444444444444444,
              "#bd3786"
             ],
             [
              0.5555555555555556,
              "#d8576b"
             ],
             [
              0.6666666666666666,
              "#ed7953"
             ],
             [
              0.7777777777777778,
              "#fb9f3a"
             ],
             [
              0.8888888888888888,
              "#fdca26"
             ],
             [
              1,
              "#f0f921"
             ]
            ],
            "type": "heatmap"
           }
          ],
          "heatmapgl": [
           {
            "colorbar": {
             "outlinewidth": 0,
             "ticks": ""
            },
            "colorscale": [
             [
              0,
              "#0d0887"
             ],
             [
              0.1111111111111111,
              "#46039f"
             ],
             [
              0.2222222222222222,
              "#7201a8"
             ],
             [
              0.3333333333333333,
              "#9c179e"
             ],
             [
              0.4444444444444444,
              "#bd3786"
             ],
             [
              0.5555555555555556,
              "#d8576b"
             ],
             [
              0.6666666666666666,
              "#ed7953"
             ],
             [
              0.7777777777777778,
              "#fb9f3a"
             ],
             [
              0.8888888888888888,
              "#fdca26"
             ],
             [
              1,
              "#f0f921"
             ]
            ],
            "type": "heatmapgl"
           }
          ],
          "histogram": [
           {
            "marker": {
             "pattern": {
              "fillmode": "overlay",
              "size": 10,
              "solidity": 0.2
             }
            },
            "type": "histogram"
           }
          ],
          "histogram2d": [
           {
            "colorbar": {
             "outlinewidth": 0,
             "ticks": ""
            },
            "colorscale": [
             [
              0,
              "#0d0887"
             ],
             [
              0.1111111111111111,
              "#46039f"
             ],
             [
              0.2222222222222222,
              "#7201a8"
             ],
             [
              0.3333333333333333,
              "#9c179e"
             ],
             [
              0.4444444444444444,
              "#bd3786"
             ],
             [
              0.5555555555555556,
              "#d8576b"
             ],
             [
              0.6666666666666666,
              "#ed7953"
             ],
             [
              0.7777777777777778,
              "#fb9f3a"
             ],
             [
              0.8888888888888888,
              "#fdca26"
             ],
             [
              1,
              "#f0f921"
             ]
            ],
            "type": "histogram2d"
           }
          ],
          "histogram2dcontour": [
           {
            "colorbar": {
             "outlinewidth": 0,
             "ticks": ""
            },
            "colorscale": [
             [
              0,
              "#0d0887"
             ],
             [
              0.1111111111111111,
              "#46039f"
             ],
             [
              0.2222222222222222,
              "#7201a8"
             ],
             [
              0.3333333333333333,
              "#9c179e"
             ],
             [
              0.4444444444444444,
              "#bd3786"
             ],
             [
              0.5555555555555556,
              "#d8576b"
             ],
             [
              0.6666666666666666,
              "#ed7953"
             ],
             [
              0.7777777777777778,
              "#fb9f3a"
             ],
             [
              0.8888888888888888,
              "#fdca26"
             ],
             [
              1,
              "#f0f921"
             ]
            ],
            "type": "histogram2dcontour"
           }
          ],
          "mesh3d": [
           {
            "colorbar": {
             "outlinewidth": 0,
             "ticks": ""
            },
            "type": "mesh3d"
           }
          ],
          "parcoords": [
           {
            "line": {
             "colorbar": {
              "outlinewidth": 0,
              "ticks": ""
             }
            },
            "type": "parcoords"
           }
          ],
          "pie": [
           {
            "automargin": true,
            "type": "pie"
           }
          ],
          "scatter": [
           {
            "fillpattern": {
             "fillmode": "overlay",
             "size": 10,
             "solidity": 0.2
            },
            "type": "scatter"
           }
          ],
          "scatter3d": [
           {
            "line": {
             "colorbar": {
              "outlinewidth": 0,
              "ticks": ""
             }
            },
            "marker": {
             "colorbar": {
              "outlinewidth": 0,
              "ticks": ""
             }
            },
            "type": "scatter3d"
           }
          ],
          "scattercarpet": [
           {
            "marker": {
             "colorbar": {
              "outlinewidth": 0,
              "ticks": ""
             }
            },
            "type": "scattercarpet"
           }
          ],
          "scattergeo": [
           {
            "marker": {
             "colorbar": {
              "outlinewidth": 0,
              "ticks": ""
             }
            },
            "type": "scattergeo"
           }
          ],
          "scattergl": [
           {
            "marker": {
             "colorbar": {
              "outlinewidth": 0,
              "ticks": ""
             }
            },
            "type": "scattergl"
           }
          ],
          "scattermapbox": [
           {
            "marker": {
             "colorbar": {
              "outlinewidth": 0,
              "ticks": ""
             }
            },
            "type": "scattermapbox"
           }
          ],
          "scatterpolar": [
           {
            "marker": {
             "colorbar": {
              "outlinewidth": 0,
              "ticks": ""
             }
            },
            "type": "scatterpolar"
           }
          ],
          "scatterpolargl": [
           {
            "marker": {
             "colorbar": {
              "outlinewidth": 0,
              "ticks": ""
             }
            },
            "type": "scatterpolargl"
           }
          ],
          "scatterternary": [
           {
            "marker": {
             "colorbar": {
              "outlinewidth": 0,
              "ticks": ""
             }
            },
            "type": "scatterternary"
           }
          ],
          "surface": [
           {
            "colorbar": {
             "outlinewidth": 0,
             "ticks": ""
            },
            "colorscale": [
             [
              0,
              "#0d0887"
             ],
             [
              0.1111111111111111,
              "#46039f"
             ],
             [
              0.2222222222222222,
              "#7201a8"
             ],
             [
              0.3333333333333333,
              "#9c179e"
             ],
             [
              0.4444444444444444,
              "#bd3786"
             ],
             [
              0.5555555555555556,
              "#d8576b"
             ],
             [
              0.6666666666666666,
              "#ed7953"
             ],
             [
              0.7777777777777778,
              "#fb9f3a"
             ],
             [
              0.8888888888888888,
              "#fdca26"
             ],
             [
              1,
              "#f0f921"
             ]
            ],
            "type": "surface"
           }
          ],
          "table": [
           {
            "cells": {
             "fill": {
              "color": "#EBF0F8"
             },
             "line": {
              "color": "white"
             }
            },
            "header": {
             "fill": {
              "color": "#C8D4E3"
             },
             "line": {
              "color": "white"
             }
            },
            "type": "table"
           }
          ]
         },
         "layout": {
          "annotationdefaults": {
           "arrowcolor": "#2a3f5f",
           "arrowhead": 0,
           "arrowwidth": 1
          },
          "autotypenumbers": "strict",
          "coloraxis": {
           "colorbar": {
            "outlinewidth": 0,
            "ticks": ""
           }
          },
          "colorscale": {
           "diverging": [
            [
             0,
             "#8e0152"
            ],
            [
             0.1,
             "#c51b7d"
            ],
            [
             0.2,
             "#de77ae"
            ],
            [
             0.3,
             "#f1b6da"
            ],
            [
             0.4,
             "#fde0ef"
            ],
            [
             0.5,
             "#f7f7f7"
            ],
            [
             0.6,
             "#e6f5d0"
            ],
            [
             0.7,
             "#b8e186"
            ],
            [
             0.8,
             "#7fbc41"
            ],
            [
             0.9,
             "#4d9221"
            ],
            [
             1,
             "#276419"
            ]
           ],
           "sequential": [
            [
             0,
             "#0d0887"
            ],
            [
             0.1111111111111111,
             "#46039f"
            ],
            [
             0.2222222222222222,
             "#7201a8"
            ],
            [
             0.3333333333333333,
             "#9c179e"
            ],
            [
             0.4444444444444444,
             "#bd3786"
            ],
            [
             0.5555555555555556,
             "#d8576b"
            ],
            [
             0.6666666666666666,
             "#ed7953"
            ],
            [
             0.7777777777777778,
             "#fb9f3a"
            ],
            [
             0.8888888888888888,
             "#fdca26"
            ],
            [
             1,
             "#f0f921"
            ]
           ],
           "sequentialminus": [
            [
             0,
             "#0d0887"
            ],
            [
             0.1111111111111111,
             "#46039f"
            ],
            [
             0.2222222222222222,
             "#7201a8"
            ],
            [
             0.3333333333333333,
             "#9c179e"
            ],
            [
             0.4444444444444444,
             "#bd3786"
            ],
            [
             0.5555555555555556,
             "#d8576b"
            ],
            [
             0.6666666666666666,
             "#ed7953"
            ],
            [
             0.7777777777777778,
             "#fb9f3a"
            ],
            [
             0.8888888888888888,
             "#fdca26"
            ],
            [
             1,
             "#f0f921"
            ]
           ]
          },
          "colorway": [
           "#636efa",
           "#EF553B",
           "#00cc96",
           "#ab63fa",
           "#FFA15A",
           "#19d3f3",
           "#FF6692",
           "#B6E880",
           "#FF97FF",
           "#FECB52"
          ],
          "font": {
           "color": "#2a3f5f"
          },
          "geo": {
           "bgcolor": "white",
           "lakecolor": "white",
           "landcolor": "#E5ECF6",
           "showlakes": true,
           "showland": true,
           "subunitcolor": "white"
          },
          "hoverlabel": {
           "align": "left"
          },
          "hovermode": "closest",
          "mapbox": {
           "style": "light"
          },
          "paper_bgcolor": "white",
          "plot_bgcolor": "#E5ECF6",
          "polar": {
           "angularaxis": {
            "gridcolor": "white",
            "linecolor": "white",
            "ticks": ""
           },
           "bgcolor": "#E5ECF6",
           "radialaxis": {
            "gridcolor": "white",
            "linecolor": "white",
            "ticks": ""
           }
          },
          "scene": {
           "xaxis": {
            "backgroundcolor": "#E5ECF6",
            "gridcolor": "white",
            "gridwidth": 2,
            "linecolor": "white",
            "showbackground": true,
            "ticks": "",
            "zerolinecolor": "white"
           },
           "yaxis": {
            "backgroundcolor": "#E5ECF6",
            "gridcolor": "white",
            "gridwidth": 2,
            "linecolor": "white",
            "showbackground": true,
            "ticks": "",
            "zerolinecolor": "white"
           },
           "zaxis": {
            "backgroundcolor": "#E5ECF6",
            "gridcolor": "white",
            "gridwidth": 2,
            "linecolor": "white",
            "showbackground": true,
            "ticks": "",
            "zerolinecolor": "white"
           }
          },
          "shapedefaults": {
           "line": {
            "color": "#2a3f5f"
           }
          },
          "ternary": {
           "aaxis": {
            "gridcolor": "white",
            "linecolor": "white",
            "ticks": ""
           },
           "baxis": {
            "gridcolor": "white",
            "linecolor": "white",
            "ticks": ""
           },
           "bgcolor": "#E5ECF6",
           "caxis": {
            "gridcolor": "white",
            "linecolor": "white",
            "ticks": ""
           }
          },
          "title": {
           "x": 0.05
          },
          "xaxis": {
           "automargin": true,
           "gridcolor": "white",
           "linecolor": "white",
           "ticks": "",
           "title": {
            "standoff": 15
           },
           "zerolinecolor": "white",
           "zerolinewidth": 2
          },
          "yaxis": {
           "automargin": true,
           "gridcolor": "white",
           "linecolor": "white",
           "ticks": "",
           "title": {
            "standoff": 15
           },
           "zerolinecolor": "white",
           "zerolinewidth": 2
          }
         }
        },
        "title": {
         "text": "Mean Population vs. Mean Per Capita GDP (2000-2020)"
        },
        "xaxis": {
         "anchor": "y",
         "domain": [
          0,
          1
         ],
         "title": {
          "text": "Mean Population (2000-2020)"
         },
         "type": "log"
        },
        "yaxis": {
         "anchor": "x",
         "domain": [
          0,
          1
         ],
         "title": {
          "text": "Mean Per Capita GDP (2000-2020)"
         }
        }
       }
      }
     },
     "metadata": {},
     "output_type": "display_data"
    },
    {
     "name": "stdout",
     "output_type": "stream",
     "text": [
      "Pearson Correlation Coefficient: -0.09887399904664362\n"
     ]
    }
   ],
   "source": [
    "import plotly.express as px\n",
    "\n",
    "# Assuming merged_df is your DataFrame and it contains a 'Country' column with the country names\n",
    "\n",
    "# Calculate the mean per capita GDP for each country\n",
    "merged_df['Mean Per Capita GDP'] = merged_df['Mean GDP 2000-2020'] / merged_df['Mean Population 2000-2020']\n",
    "\n",
    "# Visualize the relationship between mean population and mean per capita GDP using Plotly\n",
    "fig = px.scatter(merged_df, x='Mean Population 2000-2020', y='Mean Per Capita GDP', \n",
    "                 log_x=True, # Apply logarithmic scale to x-axis\n",
    "                 hover_name='Country Name', # Show country name on hover\n",
    "                 title='Mean Population vs. Mean Per Capita GDP (2000-2020)',\n",
    "                 labels={'Mean Population 2000-2020': 'Mean Population (2000-2020)', 'Mean Per Capita GDP': 'Mean Per Capita GDP (2000-2020)'})\n",
    "\n",
    "# Show the figure\n",
    "fig.show()\n",
    "\n",
    "# Compute the Pearson correlation coefficient\n",
    "correlation_coefficient = merged_df['Mean Population 2000-2020'].corr(merged_df['Mean Per Capita GDP'])\n",
    "print(\"Pearson Correlation Coefficient:\", correlation_coefficient)\n"
   ]
  },
  {
   "cell_type": "markdown",
   "metadata": {},
   "source": [
    "So it looks like their is not much correlation between the mean population and the mean per capita GDP. Their is a slight negative correlation which suggests a weak negative linear relationship."
   ]
  },
  {
   "cell_type": "code",
   "execution_count": 17,
   "metadata": {},
   "outputs": [
    {
     "name": "stdout",
     "output_type": "stream",
     "text": [
      "Coefficient: -2.4026363144955603e-06\n",
      "Intercept: 14904.541760017737\n"
     ]
    },
    {
     "name": "stderr",
     "output_type": "stream",
     "text": [
      "c:\\Users\\Hamid\\anaconda3\\lib\\site-packages\\sklearn\\utils\\validation.py:767: FutureWarning:\n",
      "\n",
      "is_sparse is deprecated and will be removed in a future version. Check `isinstance(dtype, pd.SparseDtype)` instead.\n",
      "\n",
      "c:\\Users\\Hamid\\anaconda3\\lib\\site-packages\\sklearn\\utils\\validation.py:605: FutureWarning:\n",
      "\n",
      "is_sparse is deprecated and will be removed in a future version. Check `isinstance(dtype, pd.SparseDtype)` instead.\n",
      "\n",
      "c:\\Users\\Hamid\\anaconda3\\lib\\site-packages\\sklearn\\utils\\validation.py:614: FutureWarning:\n",
      "\n",
      "is_sparse is deprecated and will be removed in a future version. Check `isinstance(dtype, pd.SparseDtype)` instead.\n",
      "\n",
      "c:\\Users\\Hamid\\anaconda3\\lib\\site-packages\\sklearn\\utils\\validation.py:605: FutureWarning:\n",
      "\n",
      "is_sparse is deprecated and will be removed in a future version. Check `isinstance(dtype, pd.SparseDtype)` instead.\n",
      "\n",
      "c:\\Users\\Hamid\\anaconda3\\lib\\site-packages\\sklearn\\utils\\validation.py:614: FutureWarning:\n",
      "\n",
      "is_sparse is deprecated and will be removed in a future version. Check `isinstance(dtype, pd.SparseDtype)` instead.\n",
      "\n",
      "c:\\Users\\Hamid\\anaconda3\\lib\\site-packages\\sklearn\\base.py:439: UserWarning:\n",
      "\n",
      "X does not have valid feature names, but LinearRegression was fitted with feature names\n",
      "\n"
     ]
    },
    {
     "data": {
      "application/vnd.plotly.v1+json": {
       "config": {
        "plotlyServerURL": "https://plot.ly"
       },
       "data": [
        {
         "hovertext": [
          "Aruba",
          "Aruba",
          "Africa Eastern and Southern",
          "Afghanistan",
          "Africa Western and Central",
          "Angola",
          "Albania",
          "Andorra",
          "Arab World",
          "United Arab Emirates",
          "Argentina",
          "Armenia",
          "American Samoa",
          "Antigua and Barbuda",
          "Australia",
          "Austria",
          "Azerbaijan",
          "Burundi",
          "Belgium",
          "Benin",
          "Burkina Faso",
          "Bangladesh",
          "Bulgaria",
          "Bahrain",
          "Bahamas, The",
          "Bosnia and Herzegovina",
          "Belarus",
          "Belize",
          "Bermuda",
          "Bolivia",
          "Brazil",
          "Barbados",
          "Brunei Darussalam",
          "Bhutan",
          "Botswana",
          "Central African Republic",
          "Canada",
          "Central Europe and the Baltics",
          "Switzerland",
          "Chile",
          "China",
          "Cote d'Ivoire",
          "Cameroon",
          "Congo, Dem. Rep.",
          "Congo, Rep.",
          "Colombia",
          "Comoros",
          "Cabo Verde",
          "Costa Rica",
          "Caribbean small states",
          "Cuba",
          "Cyprus",
          "Czech Republic",
          "Germany",
          "Djibouti",
          "Dominica",
          "Denmark",
          "Dominican Republic",
          "Algeria",
          "East Asia & Pacific (excluding high income)",
          "Early-demographic dividend",
          "East Asia & Pacific",
          "Europe & Central Asia (excluding high income)",
          "Europe & Central Asia",
          "Ecuador",
          "Egypt, Arab Rep.",
          "Euro area",
          "Spain",
          "Estonia",
          "Ethiopia",
          "European Union",
          "Fragile and conflict affected situations",
          "Finland",
          "Fiji",
          "France",
          "Faroe Islands",
          "Micronesia, Fed. Sts.",
          "Gabon",
          "United Kingdom",
          "Georgia",
          "Ghana",
          "Guinea",
          "Gambia, The",
          "Guinea-Bissau",
          "Equatorial Guinea",
          "Greece",
          "Grenada",
          "Greenland",
          "Guatemala",
          "Guam",
          "Guyana",
          "High income",
          "Hong Kong SAR, China",
          "Honduras",
          "Heavily indebted poor countries (HIPC)",
          "Croatia",
          "Haiti",
          "Hungary",
          "IDA & IBRD total",
          "Indonesia",
          "Isle of Man",
          "India",
          "Ireland",
          "Iran, Islamic Rep.",
          "Iraq",
          "Iceland",
          "Israel",
          "Italy",
          "Jamaica",
          "Jordan",
          "Japan",
          "Kazakhstan",
          "Kenya",
          "Kyrgyz Republic",
          "Cambodia",
          "Kiribati",
          "St. Kitts and Nevis",
          "Korea, Rep.",
          "Kuwait",
          "Latin America & Caribbean (excluding high income)",
          "Lao PDR",
          "Lebanon",
          "Liberia",
          "Libya",
          "St. Lucia",
          "Latin America & Caribbean",
          "Least developed countries: UN classification",
          "Low income",
          "Liechtenstein",
          "Sri Lanka",
          "Lower middle income",
          "Low & middle income",
          "Lesotho",
          "Late-demographic dividend",
          "Lithuania",
          "Luxembourg",
          "Latvia",
          "Macao SAR, China",
          "Morocco",
          "Monaco",
          "Moldova",
          "Madagascar",
          "Maldives",
          "Middle East & North Africa",
          "Mexico",
          "Marshall Islands",
          "Middle income",
          "North Macedonia",
          "Mali",
          "Malta",
          "Myanmar",
          "Middle East & North Africa (excluding high income)",
          "Montenegro",
          "Mongolia",
          "Northern Mariana Islands",
          "Mozambique",
          "Mauritania",
          "Mauritius",
          "Malawi",
          "Malaysia",
          "North America",
          "Namibia",
          "New Caledonia",
          "Niger",
          "Nigeria",
          "Nicaragua",
          "Netherlands",
          "Norway",
          "Nepal",
          "New Zealand",
          "OECD members",
          "Oman",
          "Other small states",
          "Pakistan",
          "Panama",
          "Peru",
          "Philippines",
          "Palau",
          "Papua New Guinea",
          "Poland",
          "Pre-demographic dividend",
          "Puerto Rico",
          "Portugal",
          "Paraguay",
          "West Bank and Gaza",
          "Pacific island small states",
          "Post-demographic dividend",
          "Qatar",
          "Romania",
          "Russian Federation",
          "Rwanda",
          "South Asia",
          "Saudi Arabia",
          "Sudan",
          "Senegal",
          "Singapore",
          "Solomon Islands",
          "Sierra Leone",
          "El Salvador",
          "San Marino",
          "Serbia",
          "Sub-Saharan Africa (excluding high income)",
          "Sub-Saharan Africa",
          "Small states",
          "Sao Tome and Principe",
          "Suriname",
          "Slovak Republic",
          "Slovenia",
          "Sweden",
          "Eswatini",
          "Seychelles",
          "Syrian Arab Republic",
          "Turks and Caicos Islands",
          "Chad",
          "East Asia & Pacific (IDA & IBRD countries)",
          "Europe & Central Asia (IDA & IBRD countries)",
          "Togo",
          "Thailand",
          "Tajikistan",
          "Turkmenistan",
          "Latin America & the Caribbean (IDA & IBRD countries)",
          "Timor-Leste",
          "Middle East & North Africa (IDA & IBRD countries)",
          "Tonga",
          "South Asia (IDA & IBRD)",
          "Sub-Saharan Africa (IDA & IBRD countries)",
          "Trinidad and Tobago",
          "Tunisia",
          "Turkey",
          "Tuvalu",
          "Tanzania",
          "Uganda",
          "Ukraine",
          "Upper middle income",
          "Uruguay",
          "United States",
          "Uzbekistan",
          "St. Vincent and the Grenadines",
          "Virgin Islands (U.S.)",
          "Vietnam",
          "Vanuatu",
          "World",
          "Samoa",
          "Yemen, Rep.",
          "South Africa",
          "Zambia",
          "Zimbabwe"
         ],
         "mode": "markers",
         "name": "Data Points",
         "type": "scatter",
         "x": [
          100967.15,
          101243.61904761905,
          525746557.47619045,
          29763795.333333332,
          355078223,
          23815543.76190476,
          2943192.0476190476,
          77971.28571428571,
          356192882.04761904,
          7200647.285714285,
          41003373.23809524,
          2950861.0476190476,
          57043.52380952381,
          87529.42857142857,
          22164509.04761905,
          8424370.333333334,
          9039720.57142857,
          8825927.238095239,
          10889936.61904762,
          9310359.38095238,
          15843253.523809524,
          147286328.57142857,
          7433639.952380952,
          1169669,
          349762.4285714286,
          3602163.380952381,
          9574997.238095239,
          322489.09523809527,
          64229.142857142855,
          10049068.095238095,
          195025876.9047619,
          280805.3333333333,
          388609.7619047619,
          686057.9523809524,
          1975737.4285714286,
          4285390.952380952,
          34087222.71428572,
          104711523.42857143,
          7863685.571428572,
          17121075.38095238,
          1340249493.4285715,
          20883290,
          20595817.57142857,
          65947446.333333336,
          4266823.095238095,
          45182170.76190476,
          696147.619047619,
          493237.5714285714,
          4560960.095238095,
          6979438.666666667,
          11262599.047619049,
          1094083.4761904762,
          10422171.238095239,
          82060114.52380952,
          847996.2380952381,
          70840.09523809524,
          5561354.952380952,
          9684212.238095239,
          36581670.333333336,
          1969100559.2857144,
          2905651385.952381,
          2209345450,
          401489635.3333333,
          889396328.3333334,
          15055962.523809524,
          84089906.09523809,
          334096644.71428573,
          45121535.76190476,
          1340678.8095238095,
          88842329.33333333,
          439821791.8095238,
          741423649.9523809,
          5360777.714285715,
          850835.8571428572,
          64723697.428571425,
          47853.142857142855,
          107327.09523809524,
          1672686.7142857143,
          62829833.23809524,
          3824072.5714285714,
          24900173.523809522,
          10353617.952380951,
          1821930.5714285714,
          1546992.619047619,
          966288.4761904762,
          10921171.476190476,
          107063.52380952382,
          56486.666666666664,
          14251890.047619049,
          160492.80952380953,
          757283.1904761905,
          1149419438.6190476,
          7060428.571428572,
          8282018.523809524,
          633210104.6666666,
          4250713.761904762,
          9943375.80952381,
          9974383.476190476,
          5805820897.714286,
          242272005.47619048,
          82324.76190476191,
          1227616389.6666667,
          4457614.333333333,
          74212037.1904762,
          31041164.80952381,
          318170,
          7672533.333333333,
          59012711.333333336,
          2812944.238095238,
          7498231.19047619,
          127355160,
          16440294.285714285,
          42343518.9047619,
          5574457.142857143,
          14391277.714285715,
          101979.85714285714,
          48925.09523809524,
          49582096.190476194,
          3069622,
          534361986.7619048,
          6260580.714285715,
          5392906.380952381,
          3887553.1904761903,
          6130842.714285715,
          171707.2380952381,
          588892609.6666666,
          844669177.8571428,
          517435265.71428573,
          35971.380952380954,
          20286225.38095238,
          2882494259.5238094,
          5753246778.428572,
          2036223.0476190476,
          2183823229.428571,
          3113606.523809524,
          519145.28571428574,
          2112490.9523809524,
          540412.0476190476,
          32581924.42857143,
          35718.90476190476,
          2838329.1428571427,
          21357433.14285714,
          388620.1904761905,
          387114466.95238096,
          113971744.28571428,
          55966.333333333336,
          5235811512.714286,
          2052746.0476190476,
          15206801.095238095,
          429065.2380952381,
          50705868.71428572,
          334765480.14285713,
          617320.5714285715,
          2770920.380952381,
          56114.09523809524,
          23877399,
          3550202.761904762,
          1241966.761904762,
          14759199.523809524,
          27988190.61904762,
          342079200.28571427,
          2134942,
          248514.2857142857,
          16955533.333333332,
          160642359,
          5833760,
          16643018.523809524,
          4909850,
          26565556.333333332,
          4386133.333333333,
          1289194897.4285715,
          3381523.476190476,
          26084894.95238095,
          180200013.80952382,
          3653596.761904762,
          29285174.19047619,
          94055340.14285715,
          18526.47619047619,
          7326933.857142857,
          38089142.428571425,
          743241792.9523809,
          3617422.285714286,
          10432060.80952381,
          6248017.571428572,
          3806576.4285714286,
          2221841.6666666665,
          1071449590.8571428,
          1752634.3333333333,
          20534130.714285713,
          143988572.7142857,
          10189127.38095238,
          1632792987.2380953,
          27673292.14285714,
          34981365.14285714,
          12901209.42857143,
          4949065.095238095,
          537681.4761904762,
          6372020.619047619,
          6187864.714285715,
          31133.571428571428,
          7256901.952380952,
          880736129.6666666,
          880824780.4761904,
          35286175.28571428,
          179387.42857142858,
          529150.4761904762,
          5402823.047619048,
          2037742.5238095238,
          9459610.57142857,
          1070920.9047619049,
          88650.80952380953,
          18567645.904761903,
          31534.238095238095,
          12133278,
          1944572790.9047618,
          443829491.52380955,
          6489403.619047619,
          66942714.666666664,
          7661172.380952381,
          5171400.19047619,
          572841943.8571428,
          1095743.857142857,
          330958903.71428573,
          101816,
          1632792987.2380953,
          880824780.4761904,
          1332094.4285714286,
          10672859.238095239,
          73181846.38095239,
          10546.714285714286,
          45205126.23809524,
          33259237.285714287,
          46194524.14285714,
          2353317253.1904764,
          3373325.904761905,
          307927748.4285714,
          28852059.523809522,
          108844.09523809524,
          107993.23809523809,
          88291879.66666667,
          240610.2857142857,
          6930445822.952381,
          186346.33333333334,
          23341719.19047619,
          51666426.71428572,
          13933210.714285715,
          12991881.904761905
         ],
         "y": [
          24934.56677532716,
          24866.477191074682,
          1373.7196576605043,
          471.14284889992814,
          1512.9322242729759,
          3164.865535789662,
          3591.042270221902,
          38546.96351440732,
          5556.469688567102,
          39194.108693654285,
          9402.588784747579,
          2867.432835729852,
          10432.47722817814,
          13672.476916226273,
          46663.16500108743,
          43369.53780075364,
          4220.800023812368,
          215.26586801682433,
          40543.6659391288,
          1031.1411257527693,
          631.5073163122904,
          959.6972018180072,
          6091.411503685636,
          21081.226606965607,
          29817.16433099964,
          4159.673303679107,
          4910.344858535381,
          4345.0504053957675,
          93146.67499992586,
          2208.1867085756303,
          8016.509818880775,
          15303.518180362875,
          30906.909575587215,
          2129.2078867695263,
          6068.58626314958,
          409.7976672017811,
          41613.239476687755,
          11305.878504502178,
          72174.66919379866,
          11333.696515844968,
          5174.626093130186,
          1713.7667888992767,
          1317.2152220623416,
          390.43762174760207,
          2389.3837751707433,
          5342.0805511720255,
          1244.326767345459,
          2917.461307914113,
          8450.635042943444,
          8675.840927608504,
          5907.738694587031,
          19360.905966172253,
          17261.023521152223,
          39546.25238864884,
          1845.3854706397228,
          6482.107627708817,
          53229.17452096762,
          5494.556306408914,
          3859.0063639534633,
          5245.972619496255,
          3291.289371479422,
          8460.487266769009,
          6628.783942104641,
          21711.61800220084,
          4603.723002416385,
          2414.5810915039515,
          34598.72263231644,
          27098.770514133896,
          14998.93636631479,
          464.66199008173777,
          30235.650763292026,
          4049.2148034938446,
          43088.701806344165,
          4282.2464505352245,
          37130.641116487044,
          46332.97436009577,
          2801.38038191217,
          7621.621592561337,
          40926.48592540241,
          3020.942015508174,
          1423.3538620702366,
          690.6968736031023,
          694.2645683534749,
          577.4350108420809,
          12433.459484986688,
          21260.792618353375,
          7663.66350502194,
          40054.74703617373,
          3156.6078470440866,
          31270.1334959361,
          4039.1619079344223,
          38022.12661470053,
          35122.857778766964,
          1885.814945728465,
          771.9274883833303,
          12082.331589969725,
          1123.4992070432802,
          12286.36538779652,
          3805.3473621263747,
          2661.8265133501955,
          62109.690076179126,
          1272.6045396806667,
          55936.399365394056,
          4455.58959800143,
          4262.17544590301,
          52776.80568249678,
          31411.994051756672,
          32306.155173164152,
          4543.8231647779185,
          3500.4645121797134,
          39389.070914530894,
          7699.086446891317,
          1151.551041055086,
          905.7529238038127,
          902.1643566265693,
          1419.19748005792,
          15640.745163014015,
          23562.43856149227,
          35273.167813341126,
          7105.14701690818,
          1416.7470150551605,
          6528.558163027457,
          549.2155985444977,
          7707.040479372613,
          8574.494717642321,
          7510.742032735065,
          2860.9934674433134,
          727.7364894905492,
          136034.52391994165,
          2589.5318609989104,
          2253.499056858899,
          3683.6267634103406,
          922.9627592907542,
          6050.8220336786735,
          11872.482268847103,
          99946.47567361407,
          11570.247243098927,
          54573.53630919899,
          2637.0150444678416,
          150152.74841713803,
          2268.881882654235,
          453.2979131993783,
          6988.036131728077,
          6490.600203800481,
          9053.243911169411,
          3017.0321783589284,
          3976.520608198703,
          4275.84550495391,
          688.7067346962108,
          21548.348000026635,
          35160.32483699269,
          3484.2842659295106,
          5823.199027132001,
          2705.7989185405268,
          18333.678435206275,
          488.98902582072935,
          1425.7926599443856,
          7735.689903364488,
          398.9012078923237,
          8450.439401071679,
          49602.812629409345,
          4399.055212763447,
          31620.074596976316,
          455.03142375210007,
          1963.7342473247254,
          1584.3038762307672,
          46102.56010993931,
          75200.91051176522,
          658.0114750252073,
          33397.941594451346,
          33566.98125217223,
          15644.273150508534,
          11343.862813047757,
          1054.276563074308,
          9576.513365759392,
          4800.04461182437,
          2279.404458234394,
          11545.319953939792,
          1948.9761639460814,
          11147.652499811062,
          1262.2873514135435,
          25455.569471015588,
          19956.22679255398,
          4033.8848225908514,
          2591.860289908048,
          3188.4578458989677,
          38188.32192751976,
          64433.48291886926,
          7579.9750139828175,
          8943.800023321097,
          585.1199249807247,
          1213.1601764912411,
          18608.013724630677,
          1100.853878845056,
          1207.9530761637932,
          46505.92278098085,
          1732.7274179853873,
          445.12528914409614,
          3092.5805762413975,
          53172.51780278523,
          5224.162121733424,
          1428.245678878478,
          1429.3223257512059,
          10302.529367359237,
          1353.9631033915418,
          6070.461610119005,
          14823.699440699802,
          21057.653149296188,
          49009.72919342265,
          3338.303274231403,
          12114.58719599155,
          5029.226952351633,
          24149.62562913477,
          711.1829055319317,
          5305.316099035453,
          7068.933244718236,
          599.0905397895687,
          4775.917121599109,
          685.062257879591,
          4446.0185122286675,
          7388.966617038725,
          930.0731301428154,
          3494.5400467472627,
          3489.9210720927013,
          1213.1601764912411,
          1429.3223257512059,
          15015.972924163141,
          3650.0835767113845,
          9011.926607294296,
          2915.3757083451856,
          760.4546454740414,
          637.1902526691249,
          2523.7808332543377,
          6087.017512795119,
          11488.435930943044,
          50478.15238752149,
          1506.167304230572,
          6025.857543292591,
          36939.04115689783,
          1486.290402500926,
          2542.747837681008,
          9401.149479746076,
          3302.234150185791,
          1060.325159952608,
          6186.944862686785,
          1201.7102793471267,
          943.1085967750117
         ]
        },
        {
         "mode": "lines",
         "name": "Regression Line",
         "type": "scatter",
         "x": [
          10546.714285714286,
          70014943.44396345,
          140019340.17364118,
          210023736.9033189,
          280028133.6329967,
          350032530.3626744,
          420036927.09235215,
          490041323.8220299,
          560045720.5517076,
          630050117.2813853,
          700054514.0110631,
          770058910.7407409,
          840063307.4704186,
          910067704.2000962,
          980072100.929774,
          1050076497.6594518,
          1120080894.3891294,
          1190085291.118807,
          1260089687.8484848,
          1330094084.5781627,
          1400098481.3078403,
          1470102878.037518,
          1540107274.767196,
          1610111671.4968736,
          1680116068.2265513,
          1750120464.956229,
          1820124861.6859066,
          1890129258.4155846,
          1960133655.1452622,
          2030138051.87494,
          2100142448.6046178,
          2170146845.3342957,
          2240151242.0639734,
          2310155638.793651,
          2380160035.523329,
          2450164432.2530065,
          2520168828.982684,
          2590173225.7123623,
          2660177622.44204,
          2730182019.1717176,
          2800186415.9013953,
          2870190812.631073,
          2940195209.3607507,
          3010199606.0904284,
          3080204002.8201065,
          3150208399.549784,
          3220212796.279462,
          3290217193.0091395,
          3360221589.738817,
          3430225986.468495,
          3500230383.1981726,
          3570234779.9278502,
          3640239176.657528,
          3710243573.387206,
          3780247970.1168838,
          3850252366.8465614,
          3920256763.576239,
          3990261160.305917,
          4060265557.0355945,
          4130269953.765272,
          4200274350.4949503,
          4270278747.224628,
          4340283143.954306,
          4410287540.683983,
          4480291937.413661,
          4550296334.143339,
          4620300730.873016,
          4690305127.6026945,
          4760309524.332372,
          4830313921.06205,
          4900318317.791727,
          4970322714.521405,
          5040327111.251082,
          5110331507.980761,
          5180335904.710439,
          5250340301.440116,
          5320344698.169794,
          5390349094.899471,
          5460353491.629149,
          5530357888.358827,
          5600362285.088505,
          5670366681.818183,
          5740371078.54786,
          5810375475.277538,
          5880379872.0072155,
          5950384268.736894,
          6020388665.466571,
          6090393062.196249,
          6160397458.925927,
          6230401855.655604,
          6300406252.3852825,
          6370410649.11496,
          6440415045.844638,
          6510419442.574315,
          6580423839.303993,
          6650428236.03367,
          6720432632.763349,
          6790437029.493027,
          6860441426.222704,
          6930445822.952381
         ],
         "y": [
          14904.516420098995,
          14736.321314341918,
          14568.12620858484,
          14399.931102827763,
          14231.735997070684,
          14063.540891313605,
          13895.345785556528,
          13727.15067979945,
          13558.955574042371,
          13390.760468285294,
          13222.565362528216,
          13054.370256771137,
          12886.17515101406,
          12717.980045256982,
          12549.784939499903,
          12381.589833742826,
          12213.39472798575,
          12045.19962222867,
          11877.004516471592,
          11708.809410714515,
          11540.614304957437,
          11372.419199200358,
          11204.224093443281,
          11036.028987686203,
          10867.833881929124,
          10699.638776172047,
          10531.443670414968,
          10363.24856465789,
          10195.053458900813,
          10026.858353143734,
          9858.663247386656,
          9690.468141629579,
          9522.2730358725,
          9354.077930115422,
          9185.882824358345,
          9017.687718601266,
          8849.492612844188,
          8681.29750708711,
          8513.102401330032,
          8344.907295572953,
          8176.712189815877,
          8008.517084058799,
          7840.32197830172,
          7672.1268725446425,
          7503.931766787564,
          7335.736661030486,
          7167.541555273408,
          6999.346449516331,
          6831.151343759252,
          6662.956238002174,
          6494.7611322450975,
          6326.566026488019,
          6158.370920730942,
          5990.175814973862,
          5821.980709216785,
          5653.785603459706,
          5485.590497702629,
          5317.395391945551,
          5149.200286188474,
          4981.005180431395,
          4812.810074674317,
          4644.614968917238,
          4476.419863160161,
          4308.224757403084,
          4140.029651646006,
          3971.8345458889253,
          3803.6394401318485,
          3635.44433437477,
          3467.249228617693,
          3299.0541228606144,
          3130.8590171035376,
          2962.663911346459,
          2794.468805589382,
          2626.2736998323035,
          2458.078594075225,
          2289.883488318148,
          2121.6883825610694,
          1953.4932768039926,
          1785.298171046912,
          1617.103065289837,
          1448.9079595327566,
          1280.712853775678,
          1112.5177480186012,
          944.3226422615226,
          776.1275365044457,
          607.9324307473671,
          439.7373249902903,
          271.54221923321165,
          103.34711347613302,
          -64.8479922809438,
          -233.04309803802244,
          -401.23820379509925,
          -569.4333095521797,
          -737.6284153092547,
          -905.8235210663352,
          -1074.018626823412,
          -1242.2137325804906,
          -1410.4088383375693,
          -1578.603944094646,
          -1746.7990498517229
         ]
        }
       ],
       "layout": {
        "template": {
         "data": {
          "bar": [
           {
            "error_x": {
             "color": "#2a3f5f"
            },
            "error_y": {
             "color": "#2a3f5f"
            },
            "marker": {
             "line": {
              "color": "#E5ECF6",
              "width": 0.5
             },
             "pattern": {
              "fillmode": "overlay",
              "size": 10,
              "solidity": 0.2
             }
            },
            "type": "bar"
           }
          ],
          "barpolar": [
           {
            "marker": {
             "line": {
              "color": "#E5ECF6",
              "width": 0.5
             },
             "pattern": {
              "fillmode": "overlay",
              "size": 10,
              "solidity": 0.2
             }
            },
            "type": "barpolar"
           }
          ],
          "carpet": [
           {
            "aaxis": {
             "endlinecolor": "#2a3f5f",
             "gridcolor": "white",
             "linecolor": "white",
             "minorgridcolor": "white",
             "startlinecolor": "#2a3f5f"
            },
            "baxis": {
             "endlinecolor": "#2a3f5f",
             "gridcolor": "white",
             "linecolor": "white",
             "minorgridcolor": "white",
             "startlinecolor": "#2a3f5f"
            },
            "type": "carpet"
           }
          ],
          "choropleth": [
           {
            "colorbar": {
             "outlinewidth": 0,
             "ticks": ""
            },
            "type": "choropleth"
           }
          ],
          "contour": [
           {
            "colorbar": {
             "outlinewidth": 0,
             "ticks": ""
            },
            "colorscale": [
             [
              0,
              "#0d0887"
             ],
             [
              0.1111111111111111,
              "#46039f"
             ],
             [
              0.2222222222222222,
              "#7201a8"
             ],
             [
              0.3333333333333333,
              "#9c179e"
             ],
             [
              0.4444444444444444,
              "#bd3786"
             ],
             [
              0.5555555555555556,
              "#d8576b"
             ],
             [
              0.6666666666666666,
              "#ed7953"
             ],
             [
              0.7777777777777778,
              "#fb9f3a"
             ],
             [
              0.8888888888888888,
              "#fdca26"
             ],
             [
              1,
              "#f0f921"
             ]
            ],
            "type": "contour"
           }
          ],
          "contourcarpet": [
           {
            "colorbar": {
             "outlinewidth": 0,
             "ticks": ""
            },
            "type": "contourcarpet"
           }
          ],
          "heatmap": [
           {
            "colorbar": {
             "outlinewidth": 0,
             "ticks": ""
            },
            "colorscale": [
             [
              0,
              "#0d0887"
             ],
             [
              0.1111111111111111,
              "#46039f"
             ],
             [
              0.2222222222222222,
              "#7201a8"
             ],
             [
              0.3333333333333333,
              "#9c179e"
             ],
             [
              0.4444444444444444,
              "#bd3786"
             ],
             [
              0.5555555555555556,
              "#d8576b"
             ],
             [
              0.6666666666666666,
              "#ed7953"
             ],
             [
              0.7777777777777778,
              "#fb9f3a"
             ],
             [
              0.8888888888888888,
              "#fdca26"
             ],
             [
              1,
              "#f0f921"
             ]
            ],
            "type": "heatmap"
           }
          ],
          "heatmapgl": [
           {
            "colorbar": {
             "outlinewidth": 0,
             "ticks": ""
            },
            "colorscale": [
             [
              0,
              "#0d0887"
             ],
             [
              0.1111111111111111,
              "#46039f"
             ],
             [
              0.2222222222222222,
              "#7201a8"
             ],
             [
              0.3333333333333333,
              "#9c179e"
             ],
             [
              0.4444444444444444,
              "#bd3786"
             ],
             [
              0.5555555555555556,
              "#d8576b"
             ],
             [
              0.6666666666666666,
              "#ed7953"
             ],
             [
              0.7777777777777778,
              "#fb9f3a"
             ],
             [
              0.8888888888888888,
              "#fdca26"
             ],
             [
              1,
              "#f0f921"
             ]
            ],
            "type": "heatmapgl"
           }
          ],
          "histogram": [
           {
            "marker": {
             "pattern": {
              "fillmode": "overlay",
              "size": 10,
              "solidity": 0.2
             }
            },
            "type": "histogram"
           }
          ],
          "histogram2d": [
           {
            "colorbar": {
             "outlinewidth": 0,
             "ticks": ""
            },
            "colorscale": [
             [
              0,
              "#0d0887"
             ],
             [
              0.1111111111111111,
              "#46039f"
             ],
             [
              0.2222222222222222,
              "#7201a8"
             ],
             [
              0.3333333333333333,
              "#9c179e"
             ],
             [
              0.4444444444444444,
              "#bd3786"
             ],
             [
              0.5555555555555556,
              "#d8576b"
             ],
             [
              0.6666666666666666,
              "#ed7953"
             ],
             [
              0.7777777777777778,
              "#fb9f3a"
             ],
             [
              0.8888888888888888,
              "#fdca26"
             ],
             [
              1,
              "#f0f921"
             ]
            ],
            "type": "histogram2d"
           }
          ],
          "histogram2dcontour": [
           {
            "colorbar": {
             "outlinewidth": 0,
             "ticks": ""
            },
            "colorscale": [
             [
              0,
              "#0d0887"
             ],
             [
              0.1111111111111111,
              "#46039f"
             ],
             [
              0.2222222222222222,
              "#7201a8"
             ],
             [
              0.3333333333333333,
              "#9c179e"
             ],
             [
              0.4444444444444444,
              "#bd3786"
             ],
             [
              0.5555555555555556,
              "#d8576b"
             ],
             [
              0.6666666666666666,
              "#ed7953"
             ],
             [
              0.7777777777777778,
              "#fb9f3a"
             ],
             [
              0.8888888888888888,
              "#fdca26"
             ],
             [
              1,
              "#f0f921"
             ]
            ],
            "type": "histogram2dcontour"
           }
          ],
          "mesh3d": [
           {
            "colorbar": {
             "outlinewidth": 0,
             "ticks": ""
            },
            "type": "mesh3d"
           }
          ],
          "parcoords": [
           {
            "line": {
             "colorbar": {
              "outlinewidth": 0,
              "ticks": ""
             }
            },
            "type": "parcoords"
           }
          ],
          "pie": [
           {
            "automargin": true,
            "type": "pie"
           }
          ],
          "scatter": [
           {
            "fillpattern": {
             "fillmode": "overlay",
             "size": 10,
             "solidity": 0.2
            },
            "type": "scatter"
           }
          ],
          "scatter3d": [
           {
            "line": {
             "colorbar": {
              "outlinewidth": 0,
              "ticks": ""
             }
            },
            "marker": {
             "colorbar": {
              "outlinewidth": 0,
              "ticks": ""
             }
            },
            "type": "scatter3d"
           }
          ],
          "scattercarpet": [
           {
            "marker": {
             "colorbar": {
              "outlinewidth": 0,
              "ticks": ""
             }
            },
            "type": "scattercarpet"
           }
          ],
          "scattergeo": [
           {
            "marker": {
             "colorbar": {
              "outlinewidth": 0,
              "ticks": ""
             }
            },
            "type": "scattergeo"
           }
          ],
          "scattergl": [
           {
            "marker": {
             "colorbar": {
              "outlinewidth": 0,
              "ticks": ""
             }
            },
            "type": "scattergl"
           }
          ],
          "scattermapbox": [
           {
            "marker": {
             "colorbar": {
              "outlinewidth": 0,
              "ticks": ""
             }
            },
            "type": "scattermapbox"
           }
          ],
          "scatterpolar": [
           {
            "marker": {
             "colorbar": {
              "outlinewidth": 0,
              "ticks": ""
             }
            },
            "type": "scatterpolar"
           }
          ],
          "scatterpolargl": [
           {
            "marker": {
             "colorbar": {
              "outlinewidth": 0,
              "ticks": ""
             }
            },
            "type": "scatterpolargl"
           }
          ],
          "scatterternary": [
           {
            "marker": {
             "colorbar": {
              "outlinewidth": 0,
              "ticks": ""
             }
            },
            "type": "scatterternary"
           }
          ],
          "surface": [
           {
            "colorbar": {
             "outlinewidth": 0,
             "ticks": ""
            },
            "colorscale": [
             [
              0,
              "#0d0887"
             ],
             [
              0.1111111111111111,
              "#46039f"
             ],
             [
              0.2222222222222222,
              "#7201a8"
             ],
             [
              0.3333333333333333,
              "#9c179e"
             ],
             [
              0.4444444444444444,
              "#bd3786"
             ],
             [
              0.5555555555555556,
              "#d8576b"
             ],
             [
              0.6666666666666666,
              "#ed7953"
             ],
             [
              0.7777777777777778,
              "#fb9f3a"
             ],
             [
              0.8888888888888888,
              "#fdca26"
             ],
             [
              1,
              "#f0f921"
             ]
            ],
            "type": "surface"
           }
          ],
          "table": [
           {
            "cells": {
             "fill": {
              "color": "#EBF0F8"
             },
             "line": {
              "color": "white"
             }
            },
            "header": {
             "fill": {
              "color": "#C8D4E3"
             },
             "line": {
              "color": "white"
             }
            },
            "type": "table"
           }
          ]
         },
         "layout": {
          "annotationdefaults": {
           "arrowcolor": "#2a3f5f",
           "arrowhead": 0,
           "arrowwidth": 1
          },
          "autotypenumbers": "strict",
          "coloraxis": {
           "colorbar": {
            "outlinewidth": 0,
            "ticks": ""
           }
          },
          "colorscale": {
           "diverging": [
            [
             0,
             "#8e0152"
            ],
            [
             0.1,
             "#c51b7d"
            ],
            [
             0.2,
             "#de77ae"
            ],
            [
             0.3,
             "#f1b6da"
            ],
            [
             0.4,
             "#fde0ef"
            ],
            [
             0.5,
             "#f7f7f7"
            ],
            [
             0.6,
             "#e6f5d0"
            ],
            [
             0.7,
             "#b8e186"
            ],
            [
             0.8,
             "#7fbc41"
            ],
            [
             0.9,
             "#4d9221"
            ],
            [
             1,
             "#276419"
            ]
           ],
           "sequential": [
            [
             0,
             "#0d0887"
            ],
            [
             0.1111111111111111,
             "#46039f"
            ],
            [
             0.2222222222222222,
             "#7201a8"
            ],
            [
             0.3333333333333333,
             "#9c179e"
            ],
            [
             0.4444444444444444,
             "#bd3786"
            ],
            [
             0.5555555555555556,
             "#d8576b"
            ],
            [
             0.6666666666666666,
             "#ed7953"
            ],
            [
             0.7777777777777778,
             "#fb9f3a"
            ],
            [
             0.8888888888888888,
             "#fdca26"
            ],
            [
             1,
             "#f0f921"
            ]
           ],
           "sequentialminus": [
            [
             0,
             "#0d0887"
            ],
            [
             0.1111111111111111,
             "#46039f"
            ],
            [
             0.2222222222222222,
             "#7201a8"
            ],
            [
             0.3333333333333333,
             "#9c179e"
            ],
            [
             0.4444444444444444,
             "#bd3786"
            ],
            [
             0.5555555555555556,
             "#d8576b"
            ],
            [
             0.6666666666666666,
             "#ed7953"
            ],
            [
             0.7777777777777778,
             "#fb9f3a"
            ],
            [
             0.8888888888888888,
             "#fdca26"
            ],
            [
             1,
             "#f0f921"
            ]
           ]
          },
          "colorway": [
           "#636efa",
           "#EF553B",
           "#00cc96",
           "#ab63fa",
           "#FFA15A",
           "#19d3f3",
           "#FF6692",
           "#B6E880",
           "#FF97FF",
           "#FECB52"
          ],
          "font": {
           "color": "#2a3f5f"
          },
          "geo": {
           "bgcolor": "white",
           "lakecolor": "white",
           "landcolor": "#E5ECF6",
           "showlakes": true,
           "showland": true,
           "subunitcolor": "white"
          },
          "hoverlabel": {
           "align": "left"
          },
          "hovermode": "closest",
          "mapbox": {
           "style": "light"
          },
          "paper_bgcolor": "white",
          "plot_bgcolor": "#E5ECF6",
          "polar": {
           "angularaxis": {
            "gridcolor": "white",
            "linecolor": "white",
            "ticks": ""
           },
           "bgcolor": "#E5ECF6",
           "radialaxis": {
            "gridcolor": "white",
            "linecolor": "white",
            "ticks": ""
           }
          },
          "scene": {
           "xaxis": {
            "backgroundcolor": "#E5ECF6",
            "gridcolor": "white",
            "gridwidth": 2,
            "linecolor": "white",
            "showbackground": true,
            "ticks": "",
            "zerolinecolor": "white"
           },
           "yaxis": {
            "backgroundcolor": "#E5ECF6",
            "gridcolor": "white",
            "gridwidth": 2,
            "linecolor": "white",
            "showbackground": true,
            "ticks": "",
            "zerolinecolor": "white"
           },
           "zaxis": {
            "backgroundcolor": "#E5ECF6",
            "gridcolor": "white",
            "gridwidth": 2,
            "linecolor": "white",
            "showbackground": true,
            "ticks": "",
            "zerolinecolor": "white"
           }
          },
          "shapedefaults": {
           "line": {
            "color": "#2a3f5f"
           }
          },
          "ternary": {
           "aaxis": {
            "gridcolor": "white",
            "linecolor": "white",
            "ticks": ""
           },
           "baxis": {
            "gridcolor": "white",
            "linecolor": "white",
            "ticks": ""
           },
           "bgcolor": "#E5ECF6",
           "caxis": {
            "gridcolor": "white",
            "linecolor": "white",
            "ticks": ""
           }
          },
          "title": {
           "x": 0.05
          },
          "xaxis": {
           "automargin": true,
           "gridcolor": "white",
           "linecolor": "white",
           "ticks": "",
           "title": {
            "standoff": 15
           },
           "zerolinecolor": "white",
           "zerolinewidth": 2
          },
          "yaxis": {
           "automargin": true,
           "gridcolor": "white",
           "linecolor": "white",
           "ticks": "",
           "title": {
            "standoff": 15
           },
           "zerolinecolor": "white",
           "zerolinewidth": 2
          }
         }
        },
        "title": {
         "text": "Mean Population vs. Mean Per Capita GDP with Linear Regression (2000-2020)"
        },
        "xaxis": {
         "title": {
          "text": "Mean Population (2000-2020)"
         },
         "type": "log"
        },
        "yaxis": {
         "title": {
          "text": "Mean Per Capita GDP (2000-2020)"
         }
        }
       }
      }
     },
     "metadata": {},
     "output_type": "display_data"
    }
   ],
   "source": [
    "from sklearn.linear_model import LinearRegression\n",
    "import numpy as np\n",
    "import plotly.graph_objects as go\n",
    "\n",
    "# Assuming merged_df is your DataFrame\n",
    "\n",
    "# Prepare the data for linear regression\n",
    "X = merged_df[['Mean Population 2000-2020']]  # Independent variable (mean population)\n",
    "y = merged_df['Mean Per Capita GDP']          # Dependent variable (mean per capita GDP)\n",
    "\n",
    "# Initialize and fit the linear regression model\n",
    "model = LinearRegression()\n",
    "model.fit(X, y)\n",
    "\n",
    "# Coefficients and intercept\n",
    "print(\"Coefficient:\", model.coef_[0])\n",
    "print(\"Intercept:\", model.intercept_)\n",
    "\n",
    "# Predict y values using the model for a smooth line\n",
    "X_predict = np.linspace(X.min(), X.max(), 100).reshape(-1, 1)  # Generating values in the range of X for prediction\n",
    "y_predict = model.predict(X_predict)\n",
    "\n",
    "# Plotting\n",
    "fig = go.Figure()\n",
    "\n",
    "# Add the scatter plot\n",
    "fig.add_trace(go.Scatter(x=merged_df['Mean Population 2000-2020'], y=merged_df['Mean Per Capita GDP'], mode='markers', name='Data Points', hovertext=merged_df['Country Name']))\n",
    "\n",
    "# Add the regression line\n",
    "fig.add_trace(go.Scatter(x=X_predict.flatten(), y=y_predict, mode='lines', name='Regression Line'))\n",
    "\n",
    "# Correctly apply logarithmic scale to x-axis\n",
    "fig.update_xaxes(type=\"log\")\n",
    "\n",
    "# Update the layout\n",
    "fig.update_layout(title='Mean Population vs. Mean Per Capita GDP with Linear Regression (2000-2020)',\n",
    "                  xaxis_title='Mean Population (2000-2020)',\n",
    "                  yaxis_title='Mean Per Capita GDP (2000-2020)')\n",
    "\n",
    "# Show the figure\n",
    "fig.show()\n",
    "\n"
   ]
  },
  {
   "cell_type": "markdown",
   "metadata": {},
   "source": [
    "The slope coefficient of approximately -2.4026e-06 indicates that for every one-unit increase in the mean population of a country, the mean GDP per capita decreases by approximately 2.4026e-06 units, holding all other variables constant.\n",
    "\n",
    "The intercept of approximately 14904.54 represents the estimated mean GDP per capita when the mean population is zero. However, this intercept may not have a practical interpretation in this context, as it falls outside the range of reasonable values for mean population.\n",
    "\n",
    "Overall, the extremely small slope coefficient suggests that changes in population have a negligible impact on mean GDP per capita according to this linear regression model."
   ]
  },
  {
   "cell_type": "code",
   "execution_count": null,
   "metadata": {},
   "outputs": [],
   "source": []
  },
  {
   "cell_type": "code",
   "execution_count": null,
   "metadata": {},
   "outputs": [],
   "source": []
  },
  {
   "cell_type": "code",
   "execution_count": null,
   "metadata": {},
   "outputs": [],
   "source": []
  },
  {
   "cell_type": "code",
   "execution_count": null,
   "metadata": {},
   "outputs": [],
   "source": []
  }
 ],
 "metadata": {
  "kernelspec": {
   "display_name": "base",
   "language": "python",
   "name": "python3"
  },
  "language_info": {
   "codemirror_mode": {
    "name": "ipython",
    "version": 3
   },
   "file_extension": ".py",
   "mimetype": "text/x-python",
   "name": "python",
   "nbconvert_exporter": "python",
   "pygments_lexer": "ipython3",
   "version": "3.9.7"
  }
 },
 "nbformat": 4,
 "nbformat_minor": 2
}
